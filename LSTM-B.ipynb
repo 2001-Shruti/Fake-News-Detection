{
 "cells": [
  {
   "cell_type": "code",
   "execution_count": 1,
   "id": "865d7676",
   "metadata": {},
   "outputs": [],
   "source": [
    "import numpy as np\n",
    "import pandas as pd\n",
    "import matplotlib.pyplot as plt\n",
    "import seaborn as sns\n",
    "from sklearn.model_selection import train_test_split\n",
    "from sklearn.preprocessing import LabelEncoder\n",
    "from tensorflow.keras.preprocessing.text import Tokenizer\n",
    "from tensorflow.keras.preprocessing.sequence import pad_sequences\n",
    "from tensorflow.keras.models import Sequential\n",
    "from tensorflow.keras.layers import Embedding, LSTM, Dense, Dropout\n",
    "from keras.callbacks import EarlyStopping\n",
    "from sklearn.metrics import confusion_matrix, classification_report, roc_curve, roc_auc_score"
   ]
  },
  {
   "cell_type": "code",
   "execution_count": 2,
   "id": "7bd6ac98",
   "metadata": {},
   "outputs": [],
   "source": [
    "liar_data = pd.read_csv('train (1).csv', names=[\"json ID\", \"label\", \"statement\", \"subject\", \"speaker\", \"job title\", \"state\", \"party\",\n",
    "                         \"barely true\", \"false\", \"half true\", \"mostly true\", \"pantson fire\",\"context\"])"
   ]
  },
  {
   "cell_type": "code",
   "execution_count": 3,
   "id": "afc7aeb5",
   "metadata": {},
   "outputs": [],
   "source": [
    "liar_data['label'] = liar_data['label'].replace({\n",
    "    'pants-fire': 0,\n",
    "    'FALSE': 0,\n",
    "    'barely-true': 0,\n",
    "    'half-true': 1,\n",
    "    'mostly-true': 1,\n",
    "    'TRUE': 1\n",
    "})"
   ]
  },
  {
   "cell_type": "code",
   "execution_count": 4,
   "id": "e500500a",
   "metadata": {},
   "outputs": [],
   "source": [
    "# Select only the relevant columns for our task\n",
    "liar_data = liar_data[['statement', 'label']]"
   ]
  },
  {
   "cell_type": "code",
   "execution_count": 5,
   "id": "68f1e4a2",
   "metadata": {},
   "outputs": [],
   "source": [
    "# Split the data into training and testing sets\n",
    "train_data, test_data = train_test_split(liar_data, test_size=0.2, random_state=42)"
   ]
  },
  {
   "cell_type": "code",
   "execution_count": 6,
   "id": "18d67925",
   "metadata": {},
   "outputs": [],
   "source": [
    "# Tokenize the statements using Keras' Tokenizer\n",
    "tokenizer = Tokenizer(num_words=5000)\n",
    "tokenizer.fit_on_texts(train_data['statement'])"
   ]
  },
  {
   "cell_type": "code",
   "execution_count": 7,
   "id": "caa67616",
   "metadata": {},
   "outputs": [],
   "source": [
    "# Convert the tokenized sequences to padded sequences\n",
    "X_train = pad_sequences(tokenizer.texts_to_sequences(train_data['statement']), maxlen=100)\n",
    "X_test = pad_sequences(tokenizer.texts_to_sequences(test_data['statement']), maxlen=100)"
   ]
  },
  {
   "cell_type": "code",
   "execution_count": 8,
   "id": "b4dfc5cd",
   "metadata": {},
   "outputs": [],
   "source": [
    "# Build the LSTM model\n",
    "model = Sequential()\n",
    "model.add(Embedding(5000, 64))\n",
    "model.add(LSTM(128, dropout=0.2, recurrent_dropout=0.2))\n",
    "model.add(Dense(64, activation='relu'))\n",
    "model.add(Dropout(0.5))\n",
    "model.add(Dense(6, activation='softmax'))"
   ]
  },
  {
   "cell_type": "code",
   "execution_count": 9,
   "id": "2ddbf7f8",
   "metadata": {},
   "outputs": [],
   "source": [
    "# Compile the model\n",
    "model.compile(loss='sparse_categorical_crossentropy', optimizer='adam', metrics=['accuracy'])"
   ]
  },
  {
   "cell_type": "code",
   "execution_count": 10,
   "id": "e0c2f284",
   "metadata": {},
   "outputs": [
    {
     "name": "stdout",
     "output_type": "stream",
     "text": [
      "Epoch 1/50\n",
      "116/116 [==============================] - 25s 191ms/step - loss: 0.8207 - accuracy: 0.5218 - val_loss: 0.6942 - val_accuracy: 0.4378\n",
      "Epoch 2/50\n",
      "116/116 [==============================] - 25s 213ms/step - loss: 0.7015 - accuracy: 0.5345 - val_loss: 0.6808 - val_accuracy: 0.5829\n",
      "Epoch 3/50\n",
      "116/116 [==============================] - 24s 204ms/step - loss: 0.6898 - accuracy: 0.5541 - val_loss: 0.6816 - val_accuracy: 0.5793\n",
      "Epoch 4/50\n",
      "116/116 [==============================] - 23s 199ms/step - loss: 0.6516 - accuracy: 0.6259 - val_loss: 0.7023 - val_accuracy: 0.5878\n",
      "Epoch 5/50\n",
      "116/116 [==============================] - 32s 277ms/step - loss: 0.5880 - accuracy: 0.7060 - val_loss: 0.7382 - val_accuracy: 0.5354\n"
     ]
    },
    {
     "data": {
      "text/plain": [
       "<keras.callbacks.History at 0x1f899fdcf40>"
      ]
     },
     "execution_count": 10,
     "metadata": {},
     "output_type": "execute_result"
    }
   ],
   "source": [
    "# Train the model\n",
    "early_stop = EarlyStopping(monitor='val_loss', patience=3)\n",
    "model.fit(X_train, train_data['label'], batch_size=64, epochs=50, validation_split=0.1, callbacks=[early_stop])"
   ]
  },
  {
   "cell_type": "code",
   "execution_count": 11,
   "id": "10f7e617",
   "metadata": {},
   "outputs": [
    {
     "name": "stdout",
     "output_type": "stream",
     "text": [
      "32/32 [==============================] - 3s 79ms/step - loss: 0.7313 - accuracy: 0.5439\n",
      "Test score: 0.7313091158866882\n",
      "Test accuracy: 0.5439453125\n"
     ]
    }
   ],
   "source": [
    "# Evaluate the model on the test set\n",
    "score, acc = model.evaluate(X_test, test_data['label'], batch_size=64)\n",
    "print('Test score:', score)\n",
    "print('Test accuracy:', acc)"
   ]
  },
  {
   "cell_type": "code",
   "execution_count": 12,
   "id": "888237e5",
   "metadata": {},
   "outputs": [
    {
     "name": "stdout",
     "output_type": "stream",
     "text": [
      "64/64 [==============================] - 4s 28ms/step\n"
     ]
    }
   ],
   "source": [
    "# Make predictions on the test set and calculate evaluation metrics\n",
    "y_pred = model.predict(X_test)\n",
    "y_pred_labels = np.argmax(y_pred, axis=1)"
   ]
  },
  {
   "cell_type": "code",
   "execution_count": 13,
   "id": "91147fd5",
   "metadata": {},
   "outputs": [
    {
     "name": "stdout",
     "output_type": "stream",
     "text": [
      "(2048,)\n",
      "(2048, 6)\n"
     ]
    }
   ],
   "source": [
    "print(test_data['label'].shape)\n",
    "print(y_pred.shape)"
   ]
  },
  {
   "cell_type": "code",
   "execution_count": 14,
   "id": "9f439e6d",
   "metadata": {},
   "outputs": [
    {
     "name": "stdout",
     "output_type": "stream",
     "text": [
      "              precision    recall  f1-score   support\n",
      "\n",
      "           0       0.48      0.72      0.58       888\n",
      "           1       0.66      0.41      0.50      1160\n",
      "\n",
      "    accuracy                           0.54      2048\n",
      "   macro avg       0.57      0.56      0.54      2048\n",
      "weighted avg       0.58      0.54      0.54      2048\n",
      "\n"
     ]
    }
   ],
   "source": [
    "print(classification_report(test_data['label'], y_pred_labels))"
   ]
  },
  {
   "cell_type": "code",
   "execution_count": 15,
   "id": "05d4d764",
   "metadata": {},
   "outputs": [
    {
     "name": "stdout",
     "output_type": "stream",
     "text": [
      "Confusion Matrix:\n",
      "[[640 248]\n",
      " [686 474]]\n"
     ]
    },
    {
     "data": {
      "image/png": "[encoded data removed]",
      "text/plain": [
       "<Figure size 432x288 with 2 Axes>"
      ]
     },
     "metadata": {
      "needs_background": "light"
     },
     "output_type": "display_data"
    }
   ],
   "source": [
    "cm = confusion_matrix(test_data['label'], y_pred_labels)\n",
    "print(f'Confusion Matrix:\\n{cm}')\n",
    "sns.heatmap(cm, annot=True, fmt='g')\n",
    "plt.title('Confusion Matrix')\n",
    "plt.xlabel('Predicted Label')\n",
    "plt.ylabel('True Label')\n",
    "plt.show()"
   ]
  },
  {
   "cell_type": "code",
   "execution_count": 16,
   "id": "e2418b13",
   "metadata": {},
   "outputs": [
    {
     "name": "stdout",
     "output_type": "stream",
     "text": [
      "AUC: 0.565\n"
     ]
    },
    {
     "data": {
      "image/png": "[encoded data removed]",
      "text/plain": [
       "<Figure size 432x288 with 1 Axes>"
      ]
     },
     "metadata": {
      "needs_background": "light"
     },
     "output_type": "display_data"
    }
   ],
   "source": [
    "fpr, tpr, thresholds = roc_curve(test_data['label'], y_pred_labels)\n",
    "auc = roc_auc_score(test_data['label'], y_pred_labels)\n",
    "print(f'AUC: {auc:.3f}')\n",
    "plt.plot(fpr, tpr, label=f'AUC = {auc:.3f}')\n",
    "plt.plot([0, 1], [0, 1], 'r--')\n",
    "plt.title('ROC Curve')\n",
    "plt.xlabel('False Positive Rate')\n",
    "plt.ylabel('True Positive Rate')\n",
    "plt.legend()\n",
    "plt.show()"
   ]
  }
 ],
 "metadata": {
  "kernelspec": {
   "display_name": "Python 3 (ipykernel)",
   "language": "python",
   "name": "python3"
  },
  "language_info": {
   "codemirror_mode": {
    "name": "ipython",
    "version": 3
   },
   "file_extension": ".py",
   "mimetype": "text/x-python",
   "name": "python",
   "nbconvert_exporter": "python",
   "pygments_lexer": "ipython3",
   "version": "3.9.12"
  }
 },
 "nbformat": 4,
 "nbformat_minor": 5
}
