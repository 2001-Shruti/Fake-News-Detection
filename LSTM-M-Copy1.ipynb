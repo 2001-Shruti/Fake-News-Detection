{
 "cells": [
  {
   "cell_type": "code",
   "execution_count": 1,
   "id": "865d7676",
   "metadata": {},
   "outputs": [],
   "source": [
    "import numpy as np\n",
    "import pandas as pd\n",
    "import matplotlib.pyplot as plt\n",
    "import seaborn as sns\n",
    "from sklearn.model_selection import train_test_split\n",
    "from sklearn.preprocessing import LabelEncoder\n",
    "from tensorflow.keras.preprocessing.text import Tokenizer\n",
    "from tensorflow.keras.preprocessing.sequence import pad_sequences\n",
    "from tensorflow.keras.models import Sequential\n",
    "from tensorflow.keras.layers import Embedding, LSTM, Dense, Dropout\n",
    "from keras.callbacks import EarlyStopping\n",
    "from sklearn.metrics import confusion_matrix, classification_report, roc_curve, auc, roc_auc_score"
   ]
  },
  {
   "cell_type": "code",
   "execution_count": 2,
   "id": "7bd6ac98",
   "metadata": {},
   "outputs": [],
   "source": [
    "liar_data = pd.read_csv('feverous.csv', names=[\"ID\", \"label\", \"claim\", \"evidence\", \"annotator_operations\", \"expected_challenge\", \"challenge\"])"
   ]
  },
  {
   "cell_type": "code",
   "execution_count": 3,
   "id": "aae37a59",
   "metadata": {},
   "outputs": [],
   "source": [
    "liar_data = liar_data.drop(0)"
   ]
  },
  {
   "cell_type": "code",
   "execution_count": 4,
   "id": "e500500a",
   "metadata": {},
   "outputs": [],
   "source": [
    "# Select only the relevant columns for our task\n",
    "liar_data = liar_data[['claim', 'label']]"
   ]
  },
  {
   "cell_type": "code",
   "execution_count": 5,
   "id": "9dec8142",
   "metadata": {},
   "outputs": [],
   "source": [
    "# Convert the labels to integers using LabelEncoder\n",
    "le = LabelEncoder()\n",
    "liar_data['label'] = le.fit_transform(liar_data['label'])"
   ]
  },
  {
   "cell_type": "code",
   "execution_count": 6,
   "id": "68f1e4a2",
   "metadata": {},
   "outputs": [],
   "source": [
    "# Split the data into training and testing sets\n",
    "train_data, test_data = train_test_split(liar_data, test_size=0.2, random_state=42)"
   ]
  },
  {
   "cell_type": "code",
   "execution_count": 7,
   "id": "18d67925",
   "metadata": {},
   "outputs": [],
   "source": [
    "# Tokenize the statements using Keras' Tokenizer\n",
    "tokenizer = Tokenizer(num_words=5000)\n",
    "tokenizer.fit_on_texts(train_data['claim'])"
   ]
  },
  {
   "cell_type": "code",
   "execution_count": 8,
   "id": "caa67616",
   "metadata": {},
   "outputs": [],
   "source": [
    "# Convert the tokenized sequences to padded sequences\n",
    "X_train = pad_sequences(tokenizer.texts_to_sequences(train_data['claim']), maxlen=100)\n",
    "X_test = pad_sequences(tokenizer.texts_to_sequences(test_data['claim']), maxlen=100)"
   ]
  },
  {
   "cell_type": "code",
   "execution_count": 9,
   "id": "b4dfc5cd",
   "metadata": {},
   "outputs": [],
   "source": [
    "# Build the LSTM model\n",
    "model = Sequential()\n",
    "model.add(Embedding(5000, 64))\n",
    "model.add(LSTM(128, dropout=0.2, recurrent_dropout=0.2))\n",
    "model.add(Dense(64, activation='relu'))\n",
    "model.add(Dropout(0.5))\n",
    "model.add(Dense(6, activation='softmax'))"
   ]
  },
  {
   "cell_type": "code",
   "execution_count": 10,
   "id": "2ddbf7f8",
   "metadata": {},
   "outputs": [],
   "source": [
    "# Compile the model\n",
    "model.compile(loss='sparse_categorical_crossentropy', optimizer='adam', metrics=['accuracy'])"
   ]
  },
  {
   "cell_type": "code",
   "execution_count": 11,
   "id": "e0c2f284",
   "metadata": {},
   "outputs": [
    {
     "name": "stdout",
     "output_type": "stream",
     "text": [
      "Epoch 1/50\n",
      "802/802 [==============================] - 119s 146ms/step - loss: 0.8257 - accuracy: 0.5791 - val_loss: 0.7873 - val_accuracy: 0.5861\n",
      "Epoch 2/50\n",
      "802/802 [==============================] - 117s 146ms/step - loss: 0.7824 - accuracy: 0.6073 - val_loss: 0.7601 - val_accuracy: 0.6285\n",
      "Epoch 3/50\n",
      "802/802 [==============================] - 150s 187ms/step - loss: 0.7420 - accuracy: 0.6392 - val_loss: 0.7519 - val_accuracy: 0.6332\n",
      "Epoch 4/50\n",
      "802/802 [==============================] - 160s 199ms/step - loss: 0.7139 - accuracy: 0.6576 - val_loss: 0.7552 - val_accuracy: 0.6352\n",
      "Epoch 5/50\n",
      "802/802 [==============================] - 114s 142ms/step - loss: 0.6835 - accuracy: 0.6735 - val_loss: 0.7711 - val_accuracy: 0.6392\n",
      "Epoch 6/50\n",
      "802/802 [==============================] - 122s 152ms/step - loss: 0.6557 - accuracy: 0.6881 - val_loss: 0.7977 - val_accuracy: 0.6213\n"
     ]
    },
    {
     "data": {
      "text/plain": [
       "<keras.callbacks.History at 0x1a0a10ed490>"
      ]
     },
     "execution_count": 11,
     "metadata": {},
     "output_type": "execute_result"
    }
   ],
   "source": [
    "# Train the model\n",
    "early_stop = EarlyStopping(monitor='val_loss', patience=3)\n",
    "model.fit(X_train, train_data['label'], batch_size=64, epochs=50, validation_split=0.1, callbacks=[early_stop])"
   ]
  },
  {
   "cell_type": "code",
   "execution_count": 12,
   "id": "e0af7027",
   "metadata": {},
   "outputs": [
    {
     "name": "stdout",
     "output_type": "stream",
     "text": [
      "223/223 [==============================] - 7s 30ms/step - loss: 0.8170 - accuracy: 0.6109\n",
      "Test score: 0.8170292973518372\n",
      "Test accuracy: 0.6109123826026917\n"
     ]
    }
   ],
   "source": [
    "# Evaluate the model on the test set\n",
    "score, acc = model.evaluate(X_test, test_data['label'], batch_size=64)\n",
    "print('Test score:', score)\n",
    "print('Test accuracy:', acc)"
   ]
  },
  {
   "cell_type": "code",
   "execution_count": 13,
   "id": "42fc7c01",
   "metadata": {},
   "outputs": [
    {
     "name": "stdout",
     "output_type": "stream",
     "text": [
      "446/446 [==============================] - 9s 19ms/step\n"
     ]
    }
   ],
   "source": [
    "# Make predictions on the test set and calculate evaluation metrics\n",
    "y_pred = model.predict(X_test)\n",
    "y_pred_labels = np.argmax(y_pred, axis=1)"
   ]
  },
  {
   "cell_type": "code",
   "execution_count": 14,
   "id": "4286fecd",
   "metadata": {},
   "outputs": [
    {
     "name": "stdout",
     "output_type": "stream",
     "text": [
      "(14259,)\n",
      "(14259, 6)\n"
     ]
    }
   ],
   "source": [
    "print(test_data['label'].shape)\n",
    "print(y_pred.shape)"
   ]
  },
  {
   "cell_type": "code",
   "execution_count": 15,
   "id": "583372cd",
   "metadata": {},
   "outputs": [
    {
     "name": "stdout",
     "output_type": "stream",
     "text": [
      "              precision    recall  f1-score   support\n",
      "\n",
      "           0       0.06      0.00      0.00       464\n",
      "           1       0.53      0.38      0.45      5495\n",
      "           2       0.64      0.80      0.71      8300\n",
      "\n",
      "    accuracy                           0.61     14259\n",
      "   macro avg       0.41      0.39      0.39     14259\n",
      "weighted avg       0.58      0.61      0.59     14259\n",
      "\n"
     ]
    }
   ],
   "source": [
    "print(classification_report(test_data['label'], y_pred_labels))"
   ]
  },
  {
   "cell_type": "code",
   "execution_count": 16,
   "id": "5719bb8c",
   "metadata": {},
   "outputs": [
    {
     "name": "stdout",
     "output_type": "stream",
     "text": [
      "Confusion Matrix:\n",
      "[[   1  146  317]\n",
      " [   8 2110 3377]\n",
      " [   8 1692 6600]]\n"
     ]
    },
    {
     "data": {
      "image/png": "[encoded data removed]",
      "text/plain": [
       "<Figure size 432x288 with 2 Axes>"
      ]
     },
     "metadata": {
      "needs_background": "light"
     },
     "output_type": "display_data"
    }
   ],
   "source": [
    "cm = confusion_matrix(test_data['label'], y_pred_labels)\n",
    "print(f'Confusion Matrix:\\n{cm}')\n",
    "sns.heatmap(cm, annot=True, fmt='g')\n",
    "plt.title('Confusion Matrix')\n",
    "plt.xlabel('Predicted Label')\n",
    "plt.ylabel('True Label')\n",
    "plt.show()"
   ]
  },
  {
   "cell_type": "code",
   "execution_count": 18,
   "id": "a7bab43a",
   "metadata": {},
   "outputs": [
    {
     "name": "stderr",
     "output_type": "stream",
     "text": [
      "C:\\Users\\shruti29\\anaconda3\\lib\\site-packages\\sklearn\\metrics\\_ranking.py:999: UndefinedMetricWarning: No positive samples in y_true, true positive value should be meaningless\n",
      "  warnings.warn(\n",
      "C:\\Users\\shruti29\\anaconda3\\lib\\site-packages\\sklearn\\metrics\\_ranking.py:999: UndefinedMetricWarning: No positive samples in y_true, true positive value should be meaningless\n",
      "  warnings.warn(\n",
      "C:\\Users\\shruti29\\anaconda3\\lib\\site-packages\\sklearn\\metrics\\_ranking.py:999: UndefinedMetricWarning: No positive samples in y_true, true positive value should be meaningless\n",
      "  warnings.warn(\n"
     ]
    },
    {
     "data": {
      "image/png": "[encoded data removed]",
      "text/plain": [
       "<Figure size 432x288 with 1 Axes>"
      ]
     },
     "metadata": {
      "needs_background": "light"
     },
     "output_type": "display_data"
    }
   ],
   "source": [
    "test_data['label'].shape \n",
    "y_pred.shape \n",
    "\n",
    "n_classes = y_pred.shape[1]\n",
    "fpr = dict()\n",
    "tpr = dict()\n",
    "roc_auc = dict()\n",
    "\n",
    "# Calculate ROC curve and AUC for each class\n",
    "for i in range(n_classes):\n",
    "    fpr[i], tpr[i], _ = roc_curve((test_data['label'] == i).astype(int), y_pred[:, i])\n",
    "    roc_auc[i] = auc(fpr[i], tpr[i])\n",
    "\n",
    "# Plot one-vs-rest ROC curve for each class\n",
    "plt.figure()\n",
    "colors = ['red', 'blue', 'green', 'orange', 'purple'] # customize colors as needed\n",
    "for i, color in zip(range(n_classes), colors):\n",
    "    plt.plot(fpr[i], tpr[i], color=color, lw=2,\n",
    "             label='ROC curve of class {0} (AUC = {1:0.2f})'\n",
    "             ''.format(i, roc_auc[i]))\n",
    "plt.plot([0, 1], [0, 1], color='navy', lw=2, linestyle='--')\n",
    "plt.xlim([-0.05, 1.0])\n",
    "plt.ylim([0.0, 1.05])\n",
    "plt.xlabel('False Positive Rate')\n",
    "plt.ylabel('True Positive Rate')\n",
    "plt.title('One-vs-Rest ROC Curve for CNN Model')\n",
    "plt.legend(loc=\"lower right\")\n",
    "plt.show()\n"
   ]
  },
  {
   "cell_type": "code",
   "execution_count": null,
   "id": "f61fb0ca",
   "metadata": {},
   "outputs": [],
   "source": []
  }
 ],
 "metadata": {
  "kernelspec": {
   "display_name": "Python 3 (ipykernel)",
   "language": "python",
   "name": "python3"
  },
  "language_info": {
   "codemirror_mode": {
    "name": "ipython",
    "version": 3
   },
   "file_extension": ".py",
   "mimetype": "text/x-python",
   "name": "python",
   "nbconvert_exporter": "python",
   "pygments_lexer": "ipython3",
   "version": "3.9.12"
  }
 },
 "nbformat": 4,
 "nbformat_minor": 5
}
