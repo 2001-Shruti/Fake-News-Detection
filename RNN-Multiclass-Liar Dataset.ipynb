{
 "cells": [
  {
   "cell_type": "code",
   "execution_count": 1,
   "id": "e61d5ab7",
   "metadata": {},
   "outputs": [],
   "source": [
    "import numpy as np\n",
    "import pandas as pd\n",
    "import matplotlib.pyplot as plt\n",
    "import seaborn as sns\n",
    "from sklearn.model_selection import train_test_split\n",
    "from sklearn.preprocessing import LabelEncoder\n",
    "from tensorflow.keras.preprocessing.text import Tokenizer\n",
    "from tensorflow.keras.preprocessing.sequence import pad_sequences\n",
    "from tensorflow.keras.models import Sequential\n",
    "from tensorflow.keras.layers import Embedding, LSTM, Dense, Dropout\n",
    "from keras.callbacks import EarlyStopping\n",
    "from sklearn.metrics import confusion_matrix, classification_report, roc_curve, auc, roc_auc_score"
   ]
  },
  {
   "cell_type": "code",
   "execution_count": 2,
   "id": "a16ffc0f",
   "metadata": {},
   "outputs": [],
   "source": [
    "liar_data = pd.read_csv('train (1).csv', names=[\"json ID\", \"label\", \"statement\", \"subject\", \"speaker\", \"job title\", \"state\", \"party\",\n",
    "                         \"barely true\", \"false\", \"half true\", \"mostly true\", \"pantson fire\",\"context\"])"
   ]
  },
  {
   "cell_type": "code",
   "execution_count": 3,
   "id": "6cdc6cd5",
   "metadata": {},
   "outputs": [],
   "source": [
    "# Select only the relevant columns for our task\n",
    "liar_data = liar_data[['statement', 'label']]"
   ]
  },
  {
   "cell_type": "code",
   "execution_count": 4,
   "id": "053be75a",
   "metadata": {},
   "outputs": [],
   "source": [
    "# Convert the labels to integers using LabelEncoder\n",
    "le = LabelEncoder()\n",
    "liar_data['label'] = le.fit_transform(liar_data['label'])"
   ]
  },
  {
   "cell_type": "code",
   "execution_count": 5,
   "id": "873798d0",
   "metadata": {},
   "outputs": [],
   "source": [
    "# Split the data into training and testing sets\n",
    "train_data, test_data = train_test_split(liar_data, test_size=0.2, random_state=42)"
   ]
  },
  {
   "cell_type": "code",
   "execution_count": 6,
   "id": "025dd7be",
   "metadata": {},
   "outputs": [],
   "source": [
    "# Tokenize the statements using Keras' Tokenizer\n",
    "tokenizer = Tokenizer(num_words=5000)\n",
    "tokenizer.fit_on_texts(train_data['statement'])"
   ]
  },
  {
   "cell_type": "code",
   "execution_count": 7,
   "id": "85392c84",
   "metadata": {},
   "outputs": [],
   "source": [
    "# Convert the tokenized sequences to padded sequences\n",
    "X_train = pad_sequences(tokenizer.texts_to_sequences(train_data['statement']), maxlen=100)\n",
    "X_test = pad_sequences(tokenizer.texts_to_sequences(test_data['statement']), maxlen=100)"
   ]
  },
  {
   "cell_type": "code",
   "execution_count": 8,
   "id": "3e56b27c",
   "metadata": {},
   "outputs": [],
   "source": [
    "# Build the RNN model\n",
    "model = Sequential()\n",
    "model.add(Embedding(5000, 64))\n",
    "model.add(LSTM(128, dropout=0.2, recurrent_dropout=0.2))\n",
    "model.add(Dense(64, activation='relu'))\n",
    "model.add(Dropout(0.5))\n",
    "model.add(Dense(1, activation='sigmoid'))"
   ]
  },
  {
   "cell_type": "code",
   "execution_count": 9,
   "id": "ead2b937",
   "metadata": {},
   "outputs": [],
   "source": [
    "# Compile the model\n",
    "model.compile(optimizer='adam', loss='binary_crossentropy', metrics=['accuracy'])"
   ]
  },
  {
   "cell_type": "code",
   "execution_count": 10,
   "id": "8c97d387",
   "metadata": {
    "scrolled": true
   },
   "outputs": [
    {
     "name": "stdout",
     "output_type": "stream",
     "text": [
      "Epoch 1/50\n",
      "116/116 [==============================] - 64s 363ms/step - loss: -84.9620 - accuracy: 0.1624 - val_loss: -209.0852 - val_accuracy: 0.1768\n",
      "Epoch 2/50\n",
      "116/116 [==============================] - 40s 341ms/step - loss: -425.9862 - accuracy: 0.1616 - val_loss: -676.1060 - val_accuracy: 0.1768\n",
      "Epoch 3/50\n",
      "116/116 [==============================] - 38s 328ms/step - loss: -1041.8583 - accuracy: 0.1616 - val_loss: -1417.4424 - val_accuracy: 0.1768\n",
      "Epoch 4/50\n",
      "116/116 [==============================] - 37s 322ms/step - loss: -1967.7611 - accuracy: 0.1616 - val_loss: -2452.2937 - val_accuracy: 0.1768\n",
      "Epoch 5/50\n",
      "116/116 [==============================] - 40s 343ms/step - loss: -3166.6375 - accuracy: 0.1616 - val_loss: -3752.0015 - val_accuracy: 0.1768\n",
      "Epoch 6/50\n",
      "116/116 [==============================] - 40s 344ms/step - loss: -4642.5171 - accuracy: 0.1616 - val_loss: -5315.8159 - val_accuracy: 0.1768\n",
      "Epoch 7/50\n",
      "116/116 [==============================] - 38s 327ms/step - loss: -6375.9609 - accuracy: 0.1616 - val_loss: -7133.3291 - val_accuracy: 0.1768\n",
      "Epoch 8/50\n",
      "116/116 [==============================] - 37s 319ms/step - loss: -8338.3730 - accuracy: 0.1616 - val_loss: -9185.3193 - val_accuracy: 0.1768\n",
      "Epoch 9/50\n",
      "116/116 [==============================] - 36s 310ms/step - loss: -10579.4658 - accuracy: 0.1616 - val_loss: -11476.7051 - val_accuracy: 0.1768\n",
      "Epoch 10/50\n",
      "116/116 [==============================] - 39s 334ms/step - loss: -12964.9570 - accuracy: 0.1616 - val_loss: -13972.8535 - val_accuracy: 0.1768\n",
      "Epoch 11/50\n",
      "116/116 [==============================] - 41s 347ms/step - loss: -15807.4053 - accuracy: 0.1616 - val_loss: -16707.5215 - val_accuracy: 0.1768\n",
      "Epoch 12/50\n",
      "116/116 [==============================] - 39s 339ms/step - loss: -18666.0859 - accuracy: 0.1616 - val_loss: -19645.7031 - val_accuracy: 0.1768\n",
      "Epoch 13/50\n",
      "116/116 [==============================] - 38s 326ms/step - loss: -21768.0957 - accuracy: 0.1616 - val_loss: -22775.7559 - val_accuracy: 0.1768\n",
      "Epoch 14/50\n",
      "116/116 [==============================] - 39s 337ms/step - loss: -25020.2363 - accuracy: 0.1616 - val_loss: -26095.5117 - val_accuracy: 0.1768\n",
      "Epoch 15/50\n",
      "116/116 [==============================] - 41s 357ms/step - loss: -28582.9980 - accuracy: 0.1616 - val_loss: -29642.1992 - val_accuracy: 0.1768\n",
      "Epoch 16/50\n",
      "116/116 [==============================] - 44s 375ms/step - loss: -32313.7930 - accuracy: 0.1616 - val_loss: -33353.1914 - val_accuracy: 0.1768\n",
      "Epoch 17/50\n",
      "116/116 [==============================] - 43s 372ms/step - loss: -36275.3398 - accuracy: 0.1616 - val_loss: -37277.1250 - val_accuracy: 0.1768\n",
      "Epoch 18/50\n",
      "116/116 [==============================] - 45s 386ms/step - loss: -40555.2227 - accuracy: 0.1616 - val_loss: -41344.3594 - val_accuracy: 0.1768\n",
      "Epoch 19/50\n",
      "116/116 [==============================] - 40s 344ms/step - loss: -44761.6016 - accuracy: 0.1616 - val_loss: -45546.7773 - val_accuracy: 0.1768\n",
      "Epoch 20/50\n",
      "116/116 [==============================] - 36s 310ms/step - loss: -48806.3945 - accuracy: 0.1616 - val_loss: -49368.6055 - val_accuracy: 0.1768\n",
      "Epoch 21/50\n",
      "116/116 [==============================] - 36s 311ms/step - loss: -54399.9258 - accuracy: 0.1616 - val_loss: -52080.0195 - val_accuracy: 0.1768\n",
      "Epoch 22/50\n",
      "116/116 [==============================] - 38s 331ms/step - loss: -60080.2656 - accuracy: 0.1616 - val_loss: -56141.0586 - val_accuracy: 0.1768\n",
      "Epoch 23/50\n",
      "116/116 [==============================] - 40s 346ms/step - loss: -65869.1562 - accuracy: 0.1616 - val_loss: -60878.4336 - val_accuracy: 0.1768\n",
      "Epoch 24/50\n",
      "116/116 [==============================] - 41s 357ms/step - loss: -71253.8672 - accuracy: 0.1616 - val_loss: -64934.8555 - val_accuracy: 0.1768\n",
      "Epoch 25/50\n",
      "116/116 [==============================] - 37s 317ms/step - loss: -76942.3672 - accuracy: 0.1616 - val_loss: -70349.8672 - val_accuracy: 0.1768\n",
      "Epoch 26/50\n",
      "116/116 [==============================] - 37s 319ms/step - loss: -82725.4453 - accuracy: 0.1616 - val_loss: -75023.0312 - val_accuracy: 0.1768\n",
      "Epoch 27/50\n",
      "116/116 [==============================] - 41s 352ms/step - loss: -87948.0938 - accuracy: 0.1616 - val_loss: -81020.2031 - val_accuracy: 0.1768\n",
      "Epoch 28/50\n",
      "116/116 [==============================] - 37s 321ms/step - loss: -94712.6484 - accuracy: 0.1616 - val_loss: -86294.4375 - val_accuracy: 0.1768\n",
      "Epoch 29/50\n",
      "116/116 [==============================] - 40s 347ms/step - loss: -100528.8125 - accuracy: 0.1616 - val_loss: -92094.2422 - val_accuracy: 0.1768\n",
      "Epoch 30/50\n",
      "116/116 [==============================] - 39s 334ms/step - loss: -106488.0469 - accuracy: 0.1616 - val_loss: -97677.4766 - val_accuracy: 0.1768\n",
      "Epoch 31/50\n",
      "116/116 [==============================] - 37s 317ms/step - loss: -113005.2734 - accuracy: 0.1616 - val_loss: -103404.9922 - val_accuracy: 0.1768\n",
      "Epoch 32/50\n",
      "116/116 [==============================] - 38s 331ms/step - loss: -120648.1016 - accuracy: 0.1616 - val_loss: -109325.3438 - val_accuracy: 0.1768\n",
      "Epoch 33/50\n",
      "116/116 [==============================] - 39s 339ms/step - loss: -127287.0000 - accuracy: 0.1616 - val_loss: -115671.6094 - val_accuracy: 0.1768\n",
      "Epoch 34/50\n",
      "116/116 [==============================] - 36s 311ms/step - loss: -133722.9062 - accuracy: 0.1616 - val_loss: -121585.5391 - val_accuracy: 0.1768\n",
      "Epoch 35/50\n",
      "116/116 [==============================] - 36s 307ms/step - loss: -141699.6406 - accuracy: 0.1616 - val_loss: -127949.2109 - val_accuracy: 0.1768\n",
      "Epoch 36/50\n",
      "116/116 [==============================] - 33s 288ms/step - loss: -148935.6250 - accuracy: 0.1616 - val_loss: -134364.9062 - val_accuracy: 0.1768\n",
      "Epoch 37/50\n",
      "116/116 [==============================] - 35s 304ms/step - loss: -156067.8906 - accuracy: 0.1616 - val_loss: -140821.6406 - val_accuracy: 0.1768\n",
      "Epoch 38/50\n",
      "116/116 [==============================] - 36s 309ms/step - loss: -162289.4375 - accuracy: 0.1616 - val_loss: -147380.0625 - val_accuracy: 0.1768\n",
      "Epoch 39/50\n",
      "116/116 [==============================] - 35s 304ms/step - loss: -171082.6406 - accuracy: 0.1616 - val_loss: -154141.1875 - val_accuracy: 0.1768\n",
      "Epoch 40/50\n",
      "116/116 [==============================] - 35s 305ms/step - loss: -179225.6250 - accuracy: 0.1616 - val_loss: -161058.0625 - val_accuracy: 0.1768\n",
      "Epoch 41/50\n",
      "116/116 [==============================] - 36s 308ms/step - loss: -188365.2500 - accuracy: 0.1616 - val_loss: -168224.2500 - val_accuracy: 0.1768\n",
      "Epoch 42/50\n",
      "116/116 [==============================] - 35s 303ms/step - loss: -194737.7500 - accuracy: 0.1616 - val_loss: -175394.9688 - val_accuracy: 0.1768\n",
      "Epoch 43/50\n",
      "116/116 [==============================] - 37s 315ms/step - loss: -204049.9062 - accuracy: 0.1616 - val_loss: -182772.4219 - val_accuracy: 0.1768\n",
      "Epoch 44/50\n",
      "116/116 [==============================] - 36s 306ms/step - loss: -212608.9688 - accuracy: 0.1616 - val_loss: -190219.6250 - val_accuracy: 0.1768\n",
      "Epoch 45/50\n",
      "116/116 [==============================] - 36s 312ms/step - loss: -219432.9219 - accuracy: 0.1616 - val_loss: -197862.7500 - val_accuracy: 0.1768\n",
      "Epoch 46/50\n",
      "116/116 [==============================] - 35s 302ms/step - loss: -228282.3438 - accuracy: 0.1616 - val_loss: -205283.4219 - val_accuracy: 0.1768\n",
      "Epoch 47/50\n",
      "116/116 [==============================] - 36s 311ms/step - loss: -238372.1562 - accuracy: 0.1616 - val_loss: -213113.5156 - val_accuracy: 0.1768\n",
      "Epoch 48/50\n",
      "116/116 [==============================] - 40s 343ms/step - loss: -245751.6250 - accuracy: 0.1616 - val_loss: -221076.2969 - val_accuracy: 0.1768\n",
      "Epoch 49/50\n",
      "116/116 [==============================] - 49s 426ms/step - loss: -255073.4219 - accuracy: 0.1616 - val_loss: -228982.8438 - val_accuracy: 0.1768\n",
      "Epoch 50/50\n",
      "116/116 [==============================] - 39s 334ms/step - loss: -265136.4688 - accuracy: 0.1616 - val_loss: -237166.0938 - val_accuracy: 0.1768\n"
     ]
    },
    {
     "data": {
      "text/plain": [
       "<keras.callbacks.History at 0x17537587f10>"
      ]
     },
     "execution_count": 10,
     "metadata": {},
     "output_type": "execute_result"
    }
   ],
   "source": [
    "# Train the model\n",
    "early_stop = EarlyStopping(monitor='val_loss', patience=3)\n",
    "model.fit(X_train, train_data['label'], batch_size=64, epochs=50, validation_split=0.1, callbacks=[early_stop])"
   ]
  },
  {
   "cell_type": "code",
   "execution_count": 11,
   "id": "e7fb1549",
   "metadata": {},
   "outputs": [
    {
     "name": "stdout",
     "output_type": "stream",
     "text": [
      "32/32 [==============================] - 3s 75ms/step - loss: -235432.9219 - accuracy: 0.1660\n",
      "Test score: -235432.921875\n",
      "Test accuracy: 0.166015625\n"
     ]
    }
   ],
   "source": [
    "# Evaluate the model on the test set\n",
    "score, acc = model.evaluate(X_test, test_data['label'], batch_size=64)\n",
    "print('Test score:', score)\n",
    "print('Test accuracy:', acc)"
   ]
  },
  {
   "cell_type": "code",
   "execution_count": 12,
   "id": "5ccb0664",
   "metadata": {},
   "outputs": [
    {
     "name": "stdout",
     "output_type": "stream",
     "text": [
      "64/64 [==============================] - 4s 28ms/step\n"
     ]
    }
   ],
   "source": [
    "# Make predictions on the test set and calculate evaluation metrics\n",
    "y_pred = model.predict(X_test)\n",
    "y_pred_labels = np.argmax(y_pred, axis=1)"
   ]
  },
  {
   "cell_type": "code",
   "execution_count": 13,
   "id": "b6246054",
   "metadata": {},
   "outputs": [
    {
     "name": "stdout",
     "output_type": "stream",
     "text": [
      "(2048,)\n",
      "(2048, 1)\n"
     ]
    }
   ],
   "source": [
    "print(test_data['label'].shape)\n",
    "print(y_pred.shape)"
   ]
  },
  {
   "cell_type": "code",
   "execution_count": 15,
   "id": "527de558",
   "metadata": {},
   "outputs": [
    {
     "name": "stdout",
     "output_type": "stream",
     "text": [
      "              precision    recall  f1-score   support\n",
      "\n",
      "           0       0.20      1.00      0.33       401\n",
      "           1       0.00      0.00      0.00       340\n",
      "           2       0.00      0.00      0.00       339\n",
      "           3       0.00      0.00      0.00       438\n",
      "           4       0.00      0.00      0.00       382\n",
      "           5       0.00      0.00      0.00       148\n",
      "\n",
      "    accuracy                           0.20      2048\n",
      "   macro avg       0.03      0.17      0.05      2048\n",
      "weighted avg       0.04      0.20      0.06      2048\n",
      "\n"
     ]
    },
    {
     "name": "stderr",
     "output_type": "stream",
     "text": [
      "C:\\Users\\shruti29\\anaconda3\\lib\\site-packages\\sklearn\\metrics\\_classification.py:1318: UndefinedMetricWarning: Precision and F-score are ill-defined and being set to 0.0 in labels with no predicted samples. Use `zero_division` parameter to control this behavior.\n",
      "  _warn_prf(average, modifier, msg_start, len(result))\n",
      "C:\\Users\\shruti29\\anaconda3\\lib\\site-packages\\sklearn\\metrics\\_classification.py:1318: UndefinedMetricWarning: Precision and F-score are ill-defined and being set to 0.0 in labels with no predicted samples. Use `zero_division` parameter to control this behavior.\n",
      "  _warn_prf(average, modifier, msg_start, len(result))\n",
      "C:\\Users\\shruti29\\anaconda3\\lib\\site-packages\\sklearn\\metrics\\_classification.py:1318: UndefinedMetricWarning: Precision and F-score are ill-defined and being set to 0.0 in labels with no predicted samples. Use `zero_division` parameter to control this behavior.\n",
      "  _warn_prf(average, modifier, msg_start, len(result))\n"
     ]
    }
   ],
   "source": [
    "print(classification_report(test_data['label'], y_pred_labels))"
   ]
  },
  {
   "cell_type": "code",
   "execution_count": 16,
   "id": "c5cb0225",
   "metadata": {},
   "outputs": [
    {
     "name": "stdout",
     "output_type": "stream",
     "text": [
      "Confusion Matrix:\n",
      "[[401   0   0   0   0   0]\n",
      " [340   0   0   0   0   0]\n",
      " [339   0   0   0   0   0]\n",
      " [438   0   0   0   0   0]\n",
      " [382   0   0   0   0   0]\n",
      " [148   0   0   0   0   0]]\n"
     ]
    },
    {
     "data": {
      "image/png": "[encoded data removed]",
      "text/plain": [
       "<Figure size 432x288 with 2 Axes>"
      ]
     },
     "metadata": {
      "needs_background": "light"
     },
     "output_type": "display_data"
    }
   ],
   "source": [
    "cm = confusion_matrix(test_data['label'], y_pred_labels)\n",
    "print(f'Confusion Matrix:\\n{cm}')\n",
    "sns.heatmap(cm, annot=True, fmt='g')\n",
    "plt.title('Confusion Matrix')\n",
    "plt.xlabel('Predicted Label')\n",
    "plt.ylabel('True Label')\n",
    "plt.show()"
   ]
  },
  {
   "cell_type": "code",
   "execution_count": 17,
   "id": "b53e9476",
   "metadata": {},
   "outputs": [
    {
     "data": {
      "image/png": "[encoded data removed]",
      "text/plain": [
       "<Figure size 432x288 with 1 Axes>"
      ]
     },
     "metadata": {
      "needs_background": "light"
     },
     "output_type": "display_data"
    }
   ],
   "source": [
    "test_data['label'].shape \n",
    "y_pred.shape \n",
    "\n",
    "n_classes = y_pred.shape[1]\n",
    "fpr = dict()\n",
    "tpr = dict()\n",
    "roc_auc = dict()\n",
    "\n",
    "# Calculate ROC curve and AUC for each class\n",
    "for i in range(n_classes):\n",
    "    fpr[i], tpr[i], _ = roc_curve((test_data['label'] == i).astype(int), y_pred[:, i])\n",
    "    roc_auc[i] = auc(fpr[i], tpr[i])\n",
    "\n",
    "# Plot one-vs-rest ROC curve for each class\n",
    "plt.figure()\n",
    "colors = ['red', 'blue', 'green', 'orange', 'purple'] # customize colors as needed\n",
    "for i, color in zip(range(n_classes), colors):\n",
    "    plt.plot(fpr[i], tpr[i], color=color, lw=2,\n",
    "             label='ROC curve of class {0} (AUC = {1:0.2f})'\n",
    "             ''.format(i, roc_auc[i]))\n",
    "plt.plot([0, 1], [0, 1], color='navy', lw=2, linestyle='--')\n",
    "plt.xlim([-0.05, 1.0])\n",
    "plt.ylim([0.0, 1.05])\n",
    "plt.xlabel('False Positive Rate')\n",
    "plt.ylabel('True Positive Rate')\n",
    "plt.title('One-vs-Rest ROC Curve for CNN Model')\n",
    "plt.legend(loc=\"lower right\")\n",
    "plt.show()\n"
   ]
  },
  {
   "cell_type": "code",
   "execution_count": null,
   "id": "7b617864",
   "metadata": {},
   "outputs": [],
   "source": []
  }
 ],
 "metadata": {
  "kernelspec": {
   "display_name": "Python 3 (ipykernel)",
   "language": "python",
   "name": "python3"
  },
  "language_info": {
   "codemirror_mode": {
    "name": "ipython",
    "version": 3
   },
   "file_extension": ".py",
   "mimetype": "text/x-python",
   "name": "python",
   "nbconvert_exporter": "python",
   "pygments_lexer": "ipython3",
   "version": "3.9.12"
  }
 },
 "nbformat": 4,
 "nbformat_minor": 5
}
