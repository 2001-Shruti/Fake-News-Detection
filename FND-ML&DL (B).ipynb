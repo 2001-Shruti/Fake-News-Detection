{
 "cells": [
  {
   "cell_type": "markdown",
   "id": "9d40c0b2",
   "metadata": {},
   "source": [
    "# Fake News Detection using Machine Learning and Deep Learning"
   ]
  },
  {
   "attachments": {
    "nb.jfif": {
     "image/jpeg": "[encoded data removed]"
    }
   },
   "cell_type": "markdown",
   "id": "92e6a582",
   "metadata": {},
   "source": [
    "![nb.jfif](attachment:nb.jfif)"
   ]
  },
  {
   "cell_type": "markdown",
   "id": "d59bfb35",
   "metadata": {},
   "source": [
    "#### Importing the neccssary Libraries and Loading the Dataset\n"
   ]
  },
  {
   "cell_type": "code",
   "execution_count": 1,
   "id": "39791d6e",
   "metadata": {},
   "outputs": [],
   "source": [
    "import numpy as np\n",
    "import pandas as pd\n",
    "import matplotlib.pyplot as plt\n",
    "import seaborn as sns\n",
    "import re\n",
    "from nltk.corpus import stopwords\n",
    "from nltk.stem.porter import PorterStemmer \n",
    "from sklearn.feature_extraction.text import TfidfVectorizer\n",
    "from sklearn.model_selection import train_test_split\n",
    "from sklearn.linear_model import LogisticRegression\n",
    "from sklearn.ensemble import RandomForestClassifier\n",
    "from sklearn.tree import DecisionTreeClassifier\n",
    "from sklearn.linear_model import PassiveAggressiveClassifier\n",
    "from sklearn.metrics import accuracy_score, confusion_matrix, ConfusionMatrixDisplay, roc_curve, roc_auc_score,auc, classification_report, RocCurveDisplay\n",
    "from sklearn.svm import SVC\n",
    "from sklearn.svm import LinearSVC\n",
    "from sklearn.multiclass import OneVsRestClassifier"
   ]
  },
  {
   "cell_type": "code",
   "execution_count": 2,
   "id": "599fa7a5",
   "metadata": {},
   "outputs": [],
   "source": [
    "news_df = pd.read_csv('train (1).csv', names=[\"json ID\", \"label\", \"statement\", \"subject\", \"speaker\", \"job title\", \"state\", \"party\",\n",
    "                         \"barely true\", \"false\", \"half true\", \"mostly true\", \"pantson fire\",\"context\"])"
   ]
  },
  {
   "cell_type": "code",
   "execution_count": 3,
   "id": "1290e271",
   "metadata": {},
   "outputs": [],
   "source": [
    "news_df['label'] = news_df['label'].replace({\n",
    "    'pants-fire': 0,\n",
    "    'FALSE': 0,\n",
    "    'barely-true': 0,\n",
    "    'half-true': 1,\n",
    "    'mostly-true': 1,\n",
    "    'TRUE': 1\n",
    "})"
   ]
  },
  {
   "cell_type": "code",
   "execution_count": 4,
   "id": "7b6dc8b2",
   "metadata": {},
   "outputs": [
    {
     "data": {
      "text/html": [
       "<div>\n",
       "<style scoped>\n",
       "    .dataframe tbody tr th:only-of-type {\n",
       "        vertical-align: middle;\n",
       "    }\n",
       "\n",
       "    .dataframe tbody tr th {\n",
       "        vertical-align: top;\n",
       "    }\n",
       "\n",
       "    .dataframe thead th {\n",
       "        text-align: right;\n",
       "    }\n",
       "</style>\n",
       "<table border=\"1\" class=\"dataframe\">\n",
       "  <thead>\n",
       "    <tr style=\"text-align: right;\">\n",
       "      <th></th>\n",
       "      <th>json ID</th>\n",
       "      <th>label</th>\n",
       "      <th>statement</th>\n",
       "      <th>subject</th>\n",
       "      <th>speaker</th>\n",
       "      <th>job title</th>\n",
       "      <th>state</th>\n",
       "      <th>party</th>\n",
       "      <th>barely true</th>\n",
       "      <th>false</th>\n",
       "      <th>half true</th>\n",
       "      <th>mostly true</th>\n",
       "      <th>pantson fire</th>\n",
       "      <th>context</th>\n",
       "    </tr>\n",
       "  </thead>\n",
       "  <tbody>\n",
       "    <tr>\n",
       "      <th>0</th>\n",
       "      <td>2635.json</td>\n",
       "      <td>0</td>\n",
       "      <td>Says the Annies List political group supports ...</td>\n",
       "      <td>abortion</td>\n",
       "      <td>dwayne-bohac</td>\n",
       "      <td>State representative</td>\n",
       "      <td>Texas</td>\n",
       "      <td>republican</td>\n",
       "      <td>0.0</td>\n",
       "      <td>1.0</td>\n",
       "      <td>0.0</td>\n",
       "      <td>0.0</td>\n",
       "      <td>0.0</td>\n",
       "      <td>a mailer</td>\n",
       "    </tr>\n",
       "    <tr>\n",
       "      <th>1</th>\n",
       "      <td>10540.json</td>\n",
       "      <td>1</td>\n",
       "      <td>When did the decline of coal start? It started...</td>\n",
       "      <td>energy,history,job-accomplishments</td>\n",
       "      <td>scott-surovell</td>\n",
       "      <td>State delegate</td>\n",
       "      <td>Virginia</td>\n",
       "      <td>democrat</td>\n",
       "      <td>0.0</td>\n",
       "      <td>0.0</td>\n",
       "      <td>1.0</td>\n",
       "      <td>1.0</td>\n",
       "      <td>0.0</td>\n",
       "      <td>a floor speech.</td>\n",
       "    </tr>\n",
       "    <tr>\n",
       "      <th>2</th>\n",
       "      <td>324.json</td>\n",
       "      <td>1</td>\n",
       "      <td>Hillary Clinton agrees with John McCain \"by vo...</td>\n",
       "      <td>foreign-policy</td>\n",
       "      <td>barack-obama</td>\n",
       "      <td>President</td>\n",
       "      <td>Illinois</td>\n",
       "      <td>democrat</td>\n",
       "      <td>70.0</td>\n",
       "      <td>71.0</td>\n",
       "      <td>160.0</td>\n",
       "      <td>163.0</td>\n",
       "      <td>9.0</td>\n",
       "      <td>Denver</td>\n",
       "    </tr>\n",
       "    <tr>\n",
       "      <th>3</th>\n",
       "      <td>1123.json</td>\n",
       "      <td>0</td>\n",
       "      <td>Health care reform legislation is likely to ma...</td>\n",
       "      <td>health-care</td>\n",
       "      <td>blog-posting</td>\n",
       "      <td>NaN</td>\n",
       "      <td>NaN</td>\n",
       "      <td>none</td>\n",
       "      <td>7.0</td>\n",
       "      <td>19.0</td>\n",
       "      <td>3.0</td>\n",
       "      <td>5.0</td>\n",
       "      <td>44.0</td>\n",
       "      <td>a news release</td>\n",
       "    </tr>\n",
       "    <tr>\n",
       "      <th>4</th>\n",
       "      <td>9028.json</td>\n",
       "      <td>1</td>\n",
       "      <td>The economic turnaround started at the end of ...</td>\n",
       "      <td>economy,jobs</td>\n",
       "      <td>charlie-crist</td>\n",
       "      <td>NaN</td>\n",
       "      <td>Florida</td>\n",
       "      <td>democrat</td>\n",
       "      <td>15.0</td>\n",
       "      <td>9.0</td>\n",
       "      <td>20.0</td>\n",
       "      <td>19.0</td>\n",
       "      <td>2.0</td>\n",
       "      <td>an interview on CNN</td>\n",
       "    </tr>\n",
       "  </tbody>\n",
       "</table>\n",
       "</div>"
      ],
      "text/plain": [
       "      json ID  label                                          statement  \\\n",
       "0   2635.json      0  Says the Annies List political group supports ...   \n",
       "1  10540.json      1  When did the decline of coal start? It started...   \n",
       "2    324.json      1  Hillary Clinton agrees with John McCain \"by vo...   \n",
       "3   1123.json      0  Health care reform legislation is likely to ma...   \n",
       "4   9028.json      1  The economic turnaround started at the end of ...   \n",
       "\n",
       "                              subject         speaker             job title  \\\n",
       "0                            abortion    dwayne-bohac  State representative   \n",
       "1  energy,history,job-accomplishments  scott-surovell        State delegate   \n",
       "2                      foreign-policy    barack-obama             President   \n",
       "3                         health-care    blog-posting                   NaN   \n",
       "4                        economy,jobs   charlie-crist                   NaN   \n",
       "\n",
       "      state       party  barely true  false  half true  mostly true  \\\n",
       "0     Texas  republican          0.0    1.0        0.0          0.0   \n",
       "1  Virginia    democrat          0.0    0.0        1.0          1.0   \n",
       "2  Illinois    democrat         70.0   71.0      160.0        163.0   \n",
       "3       NaN        none          7.0   19.0        3.0          5.0   \n",
       "4   Florida    democrat         15.0    9.0       20.0         19.0   \n",
       "\n",
       "   pantson fire              context  \n",
       "0           0.0             a mailer  \n",
       "1           0.0      a floor speech.  \n",
       "2           9.0               Denver  \n",
       "3          44.0       a news release  \n",
       "4           2.0  an interview on CNN  "
      ]
     },
     "execution_count": 4,
     "metadata": {},
     "output_type": "execute_result"
    }
   ],
   "source": [
    "news_df.head()"
   ]
  },
  {
   "cell_type": "code",
   "execution_count": 5,
   "id": "a7ae334e",
   "metadata": {},
   "outputs": [
    {
     "data": {
      "text/plain": [
       "(10240, 14)"
      ]
     },
     "execution_count": 5,
     "metadata": {},
     "output_type": "execute_result"
    }
   ],
   "source": [
    "news_df.shape"
   ]
  },
  {
   "cell_type": "code",
   "execution_count": 6,
   "id": "58a825b2",
   "metadata": {},
   "outputs": [
    {
     "data": {
      "text/plain": [
       "<AxesSubplot:xlabel='label', ylabel='count'>"
      ]
     },
     "execution_count": 6,
     "metadata": {},
     "output_type": "execute_result"
    },
    {
     "data": {
      "image/png": "[encoded data removed]",
      "text/plain": [
       "<Figure size 432x288 with 1 Axes>"
      ]
     },
     "metadata": {
      "needs_background": "light"
     },
     "output_type": "display_data"
    }
   ],
   "source": [
    "sns.countplot(x='label', data=news_df)"
   ]
  },
  {
   "cell_type": "markdown",
   "id": "28857ee9",
   "metadata": {},
   "source": [
    "#### Data-Preprocessing"
   ]
  },
  {
   "cell_type": "code",
   "execution_count": 7,
   "id": "d75b49ad",
   "metadata": {},
   "outputs": [
    {
     "data": {
      "text/plain": [
       "json ID            0\n",
       "label              0\n",
       "statement          0\n",
       "subject            2\n",
       "speaker            2\n",
       "job title       2897\n",
       "state           2208\n",
       "party              2\n",
       "barely true        2\n",
       "false              2\n",
       "half true          2\n",
       "mostly true        2\n",
       "pantson fire       2\n",
       "context          102\n",
       "dtype: int64"
      ]
     },
     "execution_count": 7,
     "metadata": {},
     "output_type": "execute_result"
    }
   ],
   "source": [
    "news_df.isna().sum()"
   ]
  },
  {
   "cell_type": "code",
   "execution_count": 8,
   "id": "537c9bf9",
   "metadata": {},
   "outputs": [],
   "source": [
    "news_df = news_df.fillna(' ')"
   ]
  },
  {
   "cell_type": "code",
   "execution_count": 9,
   "id": "52409ca5",
   "metadata": {},
   "outputs": [
    {
     "data": {
      "text/plain": [
       "json ID         0\n",
       "label           0\n",
       "statement       0\n",
       "subject         0\n",
       "speaker         0\n",
       "job title       0\n",
       "state           0\n",
       "party           0\n",
       "barely true     0\n",
       "false           0\n",
       "half true       0\n",
       "mostly true     0\n",
       "pantson fire    0\n",
       "context         0\n",
       "dtype: int64"
      ]
     },
     "execution_count": 9,
     "metadata": {},
     "output_type": "execute_result"
    }
   ],
   "source": [
    "news_df.isna().sum()"
   ]
  },
  {
   "cell_type": "code",
   "execution_count": 10,
   "id": "83f628fa",
   "metadata": {},
   "outputs": [],
   "source": [
    "news_df['content'] = news_df['speaker']+\" \"+news_df['statement']"
   ]
  },
  {
   "cell_type": "code",
   "execution_count": 11,
   "id": "99e81380",
   "metadata": {},
   "outputs": [
    {
     "data": {
      "text/html": [
       "<div>\n",
       "<style scoped>\n",
       "    .dataframe tbody tr th:only-of-type {\n",
       "        vertical-align: middle;\n",
       "    }\n",
       "\n",
       "    .dataframe tbody tr th {\n",
       "        vertical-align: top;\n",
       "    }\n",
       "\n",
       "    .dataframe thead th {\n",
       "        text-align: right;\n",
       "    }\n",
       "</style>\n",
       "<table border=\"1\" class=\"dataframe\">\n",
       "  <thead>\n",
       "    <tr style=\"text-align: right;\">\n",
       "      <th></th>\n",
       "      <th>json ID</th>\n",
       "      <th>label</th>\n",
       "      <th>statement</th>\n",
       "      <th>subject</th>\n",
       "      <th>speaker</th>\n",
       "      <th>job title</th>\n",
       "      <th>state</th>\n",
       "      <th>party</th>\n",
       "      <th>barely true</th>\n",
       "      <th>false</th>\n",
       "      <th>half true</th>\n",
       "      <th>mostly true</th>\n",
       "      <th>pantson fire</th>\n",
       "      <th>context</th>\n",
       "      <th>content</th>\n",
       "    </tr>\n",
       "  </thead>\n",
       "  <tbody>\n",
       "    <tr>\n",
       "      <th>0</th>\n",
       "      <td>2635.json</td>\n",
       "      <td>0</td>\n",
       "      <td>Says the Annies List political group supports ...</td>\n",
       "      <td>abortion</td>\n",
       "      <td>dwayne-bohac</td>\n",
       "      <td>State representative</td>\n",
       "      <td>Texas</td>\n",
       "      <td>republican</td>\n",
       "      <td>0.0</td>\n",
       "      <td>1.0</td>\n",
       "      <td>0.0</td>\n",
       "      <td>0.0</td>\n",
       "      <td>0.0</td>\n",
       "      <td>a mailer</td>\n",
       "      <td>dwayne-bohac Says the Annies List political gr...</td>\n",
       "    </tr>\n",
       "    <tr>\n",
       "      <th>1</th>\n",
       "      <td>10540.json</td>\n",
       "      <td>1</td>\n",
       "      <td>When did the decline of coal start? It started...</td>\n",
       "      <td>energy,history,job-accomplishments</td>\n",
       "      <td>scott-surovell</td>\n",
       "      <td>State delegate</td>\n",
       "      <td>Virginia</td>\n",
       "      <td>democrat</td>\n",
       "      <td>0.0</td>\n",
       "      <td>0.0</td>\n",
       "      <td>1.0</td>\n",
       "      <td>1.0</td>\n",
       "      <td>0.0</td>\n",
       "      <td>a floor speech.</td>\n",
       "      <td>scott-surovell When did the decline of coal st...</td>\n",
       "    </tr>\n",
       "    <tr>\n",
       "      <th>2</th>\n",
       "      <td>324.json</td>\n",
       "      <td>1</td>\n",
       "      <td>Hillary Clinton agrees with John McCain \"by vo...</td>\n",
       "      <td>foreign-policy</td>\n",
       "      <td>barack-obama</td>\n",
       "      <td>President</td>\n",
       "      <td>Illinois</td>\n",
       "      <td>democrat</td>\n",
       "      <td>70.0</td>\n",
       "      <td>71.0</td>\n",
       "      <td>160.0</td>\n",
       "      <td>163.0</td>\n",
       "      <td>9.0</td>\n",
       "      <td>Denver</td>\n",
       "      <td>barack-obama Hillary Clinton agrees with John ...</td>\n",
       "    </tr>\n",
       "    <tr>\n",
       "      <th>3</th>\n",
       "      <td>1123.json</td>\n",
       "      <td>0</td>\n",
       "      <td>Health care reform legislation is likely to ma...</td>\n",
       "      <td>health-care</td>\n",
       "      <td>blog-posting</td>\n",
       "      <td></td>\n",
       "      <td></td>\n",
       "      <td>none</td>\n",
       "      <td>7.0</td>\n",
       "      <td>19.0</td>\n",
       "      <td>3.0</td>\n",
       "      <td>5.0</td>\n",
       "      <td>44.0</td>\n",
       "      <td>a news release</td>\n",
       "      <td>blog-posting Health care reform legislation is...</td>\n",
       "    </tr>\n",
       "    <tr>\n",
       "      <th>4</th>\n",
       "      <td>9028.json</td>\n",
       "      <td>1</td>\n",
       "      <td>The economic turnaround started at the end of ...</td>\n",
       "      <td>economy,jobs</td>\n",
       "      <td>charlie-crist</td>\n",
       "      <td></td>\n",
       "      <td>Florida</td>\n",
       "      <td>democrat</td>\n",
       "      <td>15.0</td>\n",
       "      <td>9.0</td>\n",
       "      <td>20.0</td>\n",
       "      <td>19.0</td>\n",
       "      <td>2.0</td>\n",
       "      <td>an interview on CNN</td>\n",
       "      <td>charlie-crist The economic turnaround started ...</td>\n",
       "    </tr>\n",
       "    <tr>\n",
       "      <th>...</th>\n",
       "      <td>...</td>\n",
       "      <td>...</td>\n",
       "      <td>...</td>\n",
       "      <td>...</td>\n",
       "      <td>...</td>\n",
       "      <td>...</td>\n",
       "      <td>...</td>\n",
       "      <td>...</td>\n",
       "      <td>...</td>\n",
       "      <td>...</td>\n",
       "      <td>...</td>\n",
       "      <td>...</td>\n",
       "      <td>...</td>\n",
       "      <td>...</td>\n",
       "      <td>...</td>\n",
       "    </tr>\n",
       "    <tr>\n",
       "      <th>10235</th>\n",
       "      <td>5473.json</td>\n",
       "      <td>1</td>\n",
       "      <td>There are a larger number of shark attacks in ...</td>\n",
       "      <td>animals,elections</td>\n",
       "      <td>aclu-florida</td>\n",
       "      <td></td>\n",
       "      <td>Florida</td>\n",
       "      <td>none</td>\n",
       "      <td>0.0</td>\n",
       "      <td>1.0</td>\n",
       "      <td>1.0</td>\n",
       "      <td>1.0</td>\n",
       "      <td>0.0</td>\n",
       "      <td>interview on \"The Colbert Report\"</td>\n",
       "      <td>aclu-florida There are a larger number of shar...</td>\n",
       "    </tr>\n",
       "    <tr>\n",
       "      <th>10236</th>\n",
       "      <td>3408.json</td>\n",
       "      <td>1</td>\n",
       "      <td>Democrats have now become the party of the [At...</td>\n",
       "      <td>elections</td>\n",
       "      <td>alan-powell</td>\n",
       "      <td></td>\n",
       "      <td>Georgia</td>\n",
       "      <td>republican</td>\n",
       "      <td>0.0</td>\n",
       "      <td>0.0</td>\n",
       "      <td>0.0</td>\n",
       "      <td>1.0</td>\n",
       "      <td>0.0</td>\n",
       "      <td>an interview</td>\n",
       "      <td>alan-powell Democrats have now become the part...</td>\n",
       "    </tr>\n",
       "    <tr>\n",
       "      <th>10237</th>\n",
       "      <td>3959.json</td>\n",
       "      <td>1</td>\n",
       "      <td>Says an alternative to Social Security that op...</td>\n",
       "      <td>retirement,social-security</td>\n",
       "      <td>herman-cain</td>\n",
       "      <td></td>\n",
       "      <td>Georgia</td>\n",
       "      <td>republican</td>\n",
       "      <td>4.0</td>\n",
       "      <td>11.0</td>\n",
       "      <td>5.0</td>\n",
       "      <td>3.0</td>\n",
       "      <td>3.0</td>\n",
       "      <td>a Republican presidential debate</td>\n",
       "      <td>herman-cain Says an alternative to Social Secu...</td>\n",
       "    </tr>\n",
       "    <tr>\n",
       "      <th>10238</th>\n",
       "      <td>2253.json</td>\n",
       "      <td>0</td>\n",
       "      <td>On lifting the U.S. Cuban embargo and allowing...</td>\n",
       "      <td>florida,foreign-policy</td>\n",
       "      <td>jeff-greene</td>\n",
       "      <td></td>\n",
       "      <td>Florida</td>\n",
       "      <td>democrat</td>\n",
       "      <td>3.0</td>\n",
       "      <td>1.0</td>\n",
       "      <td>3.0</td>\n",
       "      <td>0.0</td>\n",
       "      <td>0.0</td>\n",
       "      <td>a televised debate on Miami's WPLG-10 against ...</td>\n",
       "      <td>jeff-greene On lifting the U.S. Cuban embargo ...</td>\n",
       "    </tr>\n",
       "    <tr>\n",
       "      <th>10239</th>\n",
       "      <td>1155.json</td>\n",
       "      <td>0</td>\n",
       "      <td>The Department of Veterans Affairs has a manua...</td>\n",
       "      <td>health-care,veterans</td>\n",
       "      <td>michael-steele</td>\n",
       "      <td>chairman of the Republican National Committee</td>\n",
       "      <td>Maryland</td>\n",
       "      <td>republican</td>\n",
       "      <td>0.0</td>\n",
       "      <td>1.0</td>\n",
       "      <td>1.0</td>\n",
       "      <td>0.0</td>\n",
       "      <td>2.0</td>\n",
       "      <td>a Fox News interview</td>\n",
       "      <td>michael-steele The Department of Veterans Affa...</td>\n",
       "    </tr>\n",
       "  </tbody>\n",
       "</table>\n",
       "<p>10240 rows × 15 columns</p>\n",
       "</div>"
      ],
      "text/plain": [
       "          json ID  label                                          statement  \\\n",
       "0       2635.json      0  Says the Annies List political group supports ...   \n",
       "1      10540.json      1  When did the decline of coal start? It started...   \n",
       "2        324.json      1  Hillary Clinton agrees with John McCain \"by vo...   \n",
       "3       1123.json      0  Health care reform legislation is likely to ma...   \n",
       "4       9028.json      1  The economic turnaround started at the end of ...   \n",
       "...           ...    ...                                                ...   \n",
       "10235   5473.json      1  There are a larger number of shark attacks in ...   \n",
       "10236   3408.json      1  Democrats have now become the party of the [At...   \n",
       "10237   3959.json      1  Says an alternative to Social Security that op...   \n",
       "10238   2253.json      0  On lifting the U.S. Cuban embargo and allowing...   \n",
       "10239   1155.json      0  The Department of Veterans Affairs has a manua...   \n",
       "\n",
       "                                  subject         speaker  \\\n",
       "0                                abortion    dwayne-bohac   \n",
       "1      energy,history,job-accomplishments  scott-surovell   \n",
       "2                          foreign-policy    barack-obama   \n",
       "3                             health-care    blog-posting   \n",
       "4                            economy,jobs   charlie-crist   \n",
       "...                                   ...             ...   \n",
       "10235                   animals,elections    aclu-florida   \n",
       "10236                           elections     alan-powell   \n",
       "10237          retirement,social-security     herman-cain   \n",
       "10238              florida,foreign-policy     jeff-greene   \n",
       "10239                health-care,veterans  michael-steele   \n",
       "\n",
       "                                           job title     state       party  \\\n",
       "0                               State representative     Texas  republican   \n",
       "1                                     State delegate  Virginia    democrat   \n",
       "2                                          President  Illinois    democrat   \n",
       "3                                                                     none   \n",
       "4                                                      Florida    democrat   \n",
       "...                                              ...       ...         ...   \n",
       "10235                                                  Florida        none   \n",
       "10236                                                  Georgia  republican   \n",
       "10237                                                  Georgia  republican   \n",
       "10238                                                  Florida    democrat   \n",
       "10239  chairman of the Republican National Committee  Maryland  republican   \n",
       "\n",
       "      barely true false half true mostly true pantson fire  \\\n",
       "0             0.0   1.0       0.0         0.0          0.0   \n",
       "1             0.0   0.0       1.0         1.0          0.0   \n",
       "2            70.0  71.0     160.0       163.0          9.0   \n",
       "3             7.0  19.0       3.0         5.0         44.0   \n",
       "4            15.0   9.0      20.0        19.0          2.0   \n",
       "...           ...   ...       ...         ...          ...   \n",
       "10235         0.0   1.0       1.0         1.0          0.0   \n",
       "10236         0.0   0.0       0.0         1.0          0.0   \n",
       "10237         4.0  11.0       5.0         3.0          3.0   \n",
       "10238         3.0   1.0       3.0         0.0          0.0   \n",
       "10239         0.0   1.0       1.0         0.0          2.0   \n",
       "\n",
       "                                                 context  \\\n",
       "0                                               a mailer   \n",
       "1                                        a floor speech.   \n",
       "2                                                 Denver   \n",
       "3                                         a news release   \n",
       "4                                    an interview on CNN   \n",
       "...                                                  ...   \n",
       "10235                  interview on \"The Colbert Report\"   \n",
       "10236                                       an interview   \n",
       "10237                   a Republican presidential debate   \n",
       "10238  a televised debate on Miami's WPLG-10 against ...   \n",
       "10239                               a Fox News interview   \n",
       "\n",
       "                                                 content  \n",
       "0      dwayne-bohac Says the Annies List political gr...  \n",
       "1      scott-surovell When did the decline of coal st...  \n",
       "2      barack-obama Hillary Clinton agrees with John ...  \n",
       "3      blog-posting Health care reform legislation is...  \n",
       "4      charlie-crist The economic turnaround started ...  \n",
       "...                                                  ...  \n",
       "10235  aclu-florida There are a larger number of shar...  \n",
       "10236  alan-powell Democrats have now become the part...  \n",
       "10237  herman-cain Says an alternative to Social Secu...  \n",
       "10238  jeff-greene On lifting the U.S. Cuban embargo ...  \n",
       "10239  michael-steele The Department of Veterans Affa...  \n",
       "\n",
       "[10240 rows x 15 columns]"
      ]
     },
     "execution_count": 11,
     "metadata": {},
     "output_type": "execute_result"
    }
   ],
   "source": [
    "news_df"
   ]
  },
  {
   "cell_type": "code",
   "execution_count": 12,
   "id": "fb9534ff",
   "metadata": {},
   "outputs": [
    {
     "data": {
      "text/plain": [
       "0        dwayne-bohac Says the Annies List political gr...\n",
       "1        scott-surovell When did the decline of coal st...\n",
       "2        barack-obama Hillary Clinton agrees with John ...\n",
       "3        blog-posting Health care reform legislation is...\n",
       "4        charlie-crist The economic turnaround started ...\n",
       "                               ...                        \n",
       "10235    aclu-florida There are a larger number of shar...\n",
       "10236    alan-powell Democrats have now become the part...\n",
       "10237    herman-cain Says an alternative to Social Secu...\n",
       "10238    jeff-greene On lifting the U.S. Cuban embargo ...\n",
       "10239    michael-steele The Department of Veterans Affa...\n",
       "Name: content, Length: 10240, dtype: object"
      ]
     },
     "execution_count": 12,
     "metadata": {},
     "output_type": "execute_result"
    }
   ],
   "source": [
    "news_df['content']"
   ]
  },
  {
   "cell_type": "markdown",
   "id": "e24530b4",
   "metadata": {},
   "source": [
    "##### Performing Stemming\n",
    "When Stemming is applied to the words in the corpus the word gives the base for that particular word. It is like from a tree with branches you are removing the branches till their stem."
   ]
  },
  {
   "cell_type": "code",
   "execution_count": 13,
   "id": "1bb62773",
   "metadata": {},
   "outputs": [],
   "source": [
    "\n",
    "ps = PorterStemmer()\n",
    "def stemming(content):\n",
    "    stemmed_content = re.sub('[^a-zA-Z]',' ',content)\n",
    "    stemmed_content = stemmed_content.lower()\n",
    "    stemmed_content = stemmed_content.split()\n",
    "    stemmed_content = [ps.stem(word) for word in stemmed_content if not word in stopwords.words('english')]\n",
    "    stemmed_content = ' '.join(stemmed_content)\n",
    "    return stemmed_content"
   ]
  },
  {
   "cell_type": "code",
   "execution_count": 14,
   "id": "008551fa",
   "metadata": {},
   "outputs": [],
   "source": [
    "news_df['content'] = news_df['content'].apply(stemming)"
   ]
  },
  {
   "cell_type": "code",
   "execution_count": 15,
   "id": "713afcdc",
   "metadata": {},
   "outputs": [
    {
     "data": {
      "text/plain": [
       "0        dwayn bohac say anni list polit group support ...\n",
       "1        scott surovel declin coal start start natur ga...\n",
       "2        barack obama hillari clinton agre john mccain ...\n",
       "3        blog post health care reform legisl like manda...\n",
       "4            charli crist econom turnaround start end term\n",
       "                               ...                        \n",
       "10235    aclu florida larger number shark attack florid...\n",
       "10236    alan powel democrat becom parti atlanta metro ...\n",
       "10237    herman cain say altern social secur oper galve...\n",
       "10238    jeff green lift u cuban embargo allow travel cuba\n",
       "10239    michael steel depart veteran affair manual tel...\n",
       "Name: content, Length: 10240, dtype: object"
      ]
     },
     "execution_count": 15,
     "metadata": {},
     "output_type": "execute_result"
    }
   ],
   "source": [
    "news_df['content']"
   ]
  },
  {
   "cell_type": "code",
   "execution_count": 16,
   "id": "3b45abf0",
   "metadata": {},
   "outputs": [],
   "source": [
    "X = news_df['content'].values\n",
    "y = news_df['label'].values"
   ]
  },
  {
   "cell_type": "code",
   "execution_count": 17,
   "id": "6d787447",
   "metadata": {},
   "outputs": [
    {
     "name": "stdout",
     "output_type": "stream",
     "text": [
      "['dwayn bohac say anni list polit group support third trimest abort demand'\n",
      " 'scott surovel declin coal start start natur ga took start begin presid georg w bush administr'\n",
      " 'barack obama hillari clinton agre john mccain vote give georg bush benefit doubt iran'\n",
      " ...\n",
      " 'herman cain say altern social secur oper galveston counti texa meant particip retir whole lot money social secur'\n",
      " 'jeff green lift u cuban embargo allow travel cuba'\n",
      " 'michael steel depart veteran affair manual tell veteran stuff like realli valu commun know encourag commit suicid']\n"
     ]
    }
   ],
   "source": [
    "print(X)"
   ]
  },
  {
   "cell_type": "markdown",
   "id": "86fb95c7",
   "metadata": {},
   "source": [
    "##### Applying Tf-Idf Vectorization \n",
    "Term frequency–inverse document frequency, is a technique for text vectorization based on the Bag of words (BoW) model. It is a numerical statistic that is intended to reflect how important a word is to a document in a collection or corpus."
   ]
  },
  {
   "cell_type": "code",
   "execution_count": 18,
   "id": "9e4db6f2",
   "metadata": {},
   "outputs": [],
   "source": [
    "vector = TfidfVectorizer()\n",
    "vector.fit(X)\n",
    "X = vector.transform(X)"
   ]
  },
  {
   "cell_type": "code",
   "execution_count": 19,
   "id": "96ebaa1b",
   "metadata": {},
   "outputs": [
    {
     "name": "stdout",
     "output_type": "stream",
     "text": [
      "  (0, 8589)\t0.3751918202191673\n",
      "  (0, 8394)\t0.23689878675511836\n",
      "  (0, 8134)\t0.18140560265636088\n",
      "  (0, 7275)\t0.09977806681983761\n",
      "  (0, 6384)\t0.24245034239270283\n",
      "  (0, 4880)\t0.2688109371967018\n",
      "  (0, 3542)\t0.2476267671895362\n",
      "  (0, 2497)\t0.3751918202191673\n",
      "  (0, 2126)\t0.2933637821280234\n",
      "  (0, 904)\t0.39184405471094097\n",
      "  (0, 332)\t0.3751918202191673\n",
      "  (0, 20)\t0.21620367127779688\n",
      "  (1, 8483)\t0.18955757218746527\n",
      "  (1, 8148)\t0.3462359578971329\n",
      "  (1, 7916)\t0.6344196894551376\n",
      "  (1, 7369)\t0.14430371124325\n",
      "  (1, 6492)\t0.13853137350366376\n",
      "  (1, 5615)\t0.25606057066042914\n",
      "  (1, 3330)\t0.1869894160065197\n",
      "  (1, 3245)\t0.20729745067058047\n",
      "  (1, 2070)\t0.25606057066042914\n",
      "  (1, 1554)\t0.25760502695265536\n",
      "  (1, 1129)\t0.17205069126502603\n",
      "  (1, 726)\t0.2504665588099598\n",
      "  (1, 95)\t0.18417152219787888\n",
      "  :\t:\n",
      "  (10237, 244)\t0.28012392445469614\n",
      "  (10238, 8552)\t0.357672601308624\n",
      "  (10238, 4850)\t0.37742042937774545\n",
      "  (10238, 4305)\t0.2798305031050015\n",
      "  (10238, 3502)\t0.3361535185248456\n",
      "  (10238, 2615)\t0.42005937847455344\n",
      "  (10238, 1921)\t0.4036717886525065\n",
      "  (10238, 1920)\t0.3665524153416014\n",
      "  (10238, 229)\t0.2540833793968125\n",
      "  (10239, 8888)\t0.4071440406540164\n",
      "  (10239, 8852)\t0.24254722688269842\n",
      "  (10239, 8304)\t0.22285149483994843\n",
      "  (10239, 8105)\t0.2544987979911549\n",
      "  (10239, 8059)\t0.29647675566509035\n",
      "  (10239, 7943)\t0.26257972859670864\n",
      "  (10239, 6780)\t0.23127261415663436\n",
      "  (10239, 5330)\t0.18512077137410077\n",
      "  (10239, 5079)\t0.3061164929215605\n",
      "  (10239, 4853)\t0.1689219660575565\n",
      "  (10239, 4577)\t0.1879541457193879\n",
      "  (10239, 2652)\t0.25966412525251936\n",
      "  (10239, 2153)\t0.1836443960076503\n",
      "  (10239, 1625)\t0.20409972100053353\n",
      "  (10239, 1618)\t0.21689770060664101\n",
      "  (10239, 116)\t0.26257972859670864\n"
     ]
    }
   ],
   "source": [
    "print(X)"
   ]
  },
  {
   "cell_type": "code",
   "execution_count": 21,
   "id": "971380fe",
   "metadata": {},
   "outputs": [],
   "source": [
    "X_train, X_test, y_train, y_test = train_test_split(X, y, test_size=0.2,stratify=y, random_state=42)"
   ]
  },
  {
   "cell_type": "code",
   "execution_count": 22,
   "id": "fc5c53a6",
   "metadata": {},
   "outputs": [
    {
     "data": {
      "text/plain": [
       "(8192, 9343)"
      ]
     },
     "execution_count": 22,
     "metadata": {},
     "output_type": "execute_result"
    }
   ],
   "source": [
    "X_train.shape"
   ]
  },
  {
   "cell_type": "code",
   "execution_count": 23,
   "id": "5a3020c7",
   "metadata": {},
   "outputs": [
    {
     "data": {
      "text/plain": [
       "(2048, 9343)"
      ]
     },
     "execution_count": 23,
     "metadata": {},
     "output_type": "execute_result"
    }
   ],
   "source": [
    "X_test.shape"
   ]
  },
  {
   "cell_type": "markdown",
   "id": "72ef7e3b",
   "metadata": {},
   "source": [
    "### Machine Learning Algorithms"
   ]
  },
  {
   "cell_type": "markdown",
   "id": "b326e2de",
   "metadata": {},
   "source": [
    "#### Logistic Regression (LR)"
   ]
  },
  {
   "cell_type": "code",
   "execution_count": 24,
   "id": "84239192",
   "metadata": {},
   "outputs": [
    {
     "name": "stdout",
     "output_type": "stream",
     "text": [
      "Confusion Matrix:\n",
      " [[385 513]\n",
      " [269 881]]\n",
      "\n",
      "Classification Report:\n",
      "               precision    recall  f1-score   support\n",
      "\n",
      "           0       0.59      0.43      0.50       898\n",
      "           1       0.63      0.77      0.69      1150\n",
      "\n",
      "    accuracy                           0.62      2048\n",
      "   macro avg       0.61      0.60      0.59      2048\n",
      "weighted avg       0.61      0.62      0.61      2048\n",
      "\n",
      "Accuracy: 0.6181640625\n",
      "Precision: 0.6319942611190817\n",
      "Recall: 0.7660869565217391\n",
      "F1-Score: 0.6926100628930817\n"
     ]
    },
    {
     "data": {
      "image/png": "[encoded data removed]",
      "text/plain": [
       "<Figure size 432x288 with 2 Axes>"
      ]
     },
     "metadata": {
      "needs_background": "light"
     },
     "output_type": "display_data"
    },
    {
     "data": {
      "image/png": "[encoded data removed]",
      "text/plain": [
       "<Figure size 432x288 with 1 Axes>"
      ]
     },
     "metadata": {
      "needs_background": "light"
     },
     "output_type": "display_data"
    }
   ],
   "source": [
    "model = LogisticRegression(solver='saga', max_iter=1000)\n",
    "model.fit(X_train,y_train)\n",
    "y_pred = model.predict(X_test)\n",
    "confusion_mat = confusion_matrix(y_test, y_pred)\n",
    "report = classification_report(y_test, y_pred)\n",
    "TN, FP, FN, TP = confusion_mat.ravel()\n",
    "accuracy = (TP + TN) / (TP + TN + FP + FN)\n",
    "precision = TP / (TP + FP)\n",
    "recall = TP / (TP + FN)\n",
    "f1_score = 2 * (precision * recall) / (precision + recall)\n",
    "y_prob = model.decision_function(X_test)\n",
    "fpr, tpr, thresholds = roc_curve(y_test, y_prob)\n",
    "roc_auc = roc_auc_score(y_test, y_prob) \n",
    "print('Confusion Matrix:\\n', confusion_mat)\n",
    "print(\"\\nClassification Report:\\n\", report)\n",
    "print('Accuracy:', accuracy)\n",
    "print('Precision:', precision)\n",
    "print('Recall:', recall)\n",
    "print('F1-Score:', f1_score)\n",
    "confusion_mat_display = ConfusionMatrixDisplay(confusion_mat).plot()\n",
    "roc_curve_display = RocCurveDisplay(fpr=fpr,tpr=tpr,roc_auc=roc_auc).plot()"
   ]
  },
  {
   "cell_type": "markdown",
   "id": "fcb13689",
   "metadata": {},
   "source": [
    "#### Support Vector Machine (SVM)"
   ]
  },
  {
   "cell_type": "code",
   "execution_count": 25,
   "id": "c872c310",
   "metadata": {},
   "outputs": [
    {
     "name": "stdout",
     "output_type": "stream",
     "text": [
      "Confusion Matrix:\n",
      " [[408 490]\n",
      " [298 852]]\n",
      "\n",
      "Classification Report:\n",
      "               precision    recall  f1-score   support\n",
      "\n",
      "           0       0.58      0.45      0.51       898\n",
      "           1       0.63      0.74      0.68      1150\n",
      "\n",
      "    accuracy                           0.62      2048\n",
      "   macro avg       0.61      0.60      0.60      2048\n",
      "weighted avg       0.61      0.62      0.61      2048\n",
      "\n",
      "Accuracy: 0.615234375\n",
      "Precision: 0.6348733233979136\n",
      "Recall: 0.7408695652173913\n",
      "F1-Score: 0.6837881219903692\n"
     ]
    },
    {
     "data": {
      "image/png": "[encoded data removed]",
      "text/plain": [
       "<Figure size 432x288 with 2 Axes>"
      ]
     },
     "metadata": {
      "needs_background": "light"
     },
     "output_type": "display_data"
    },
    {
     "data": {
      "image/png": "[encoded data removed]",
      "text/plain": [
       "<Figure size 432x288 with 1 Axes>"
      ]
     },
     "metadata": {
      "needs_background": "light"
     },
     "output_type": "display_data"
    }
   ],
   "source": [
    "svm_model = OneVsRestClassifier(SVC(kernel='linear'))\n",
    "svm_model.fit(X_train, y_train)\n",
    "y_pred = svm_model.predict(X_test)\n",
    "confusion_mat = confusion_matrix(y_test, y_pred)\n",
    "report = classification_report(y_test, y_pred)\n",
    "TN, FP, FN, TP = confusion_mat.ravel()\n",
    "accuracy = (TP + TN) / (TP + TN + FP + FN)\n",
    "precision = TP / (TP + FP)\n",
    "recall = TP / (TP + FN)\n",
    "f1_score = 2 * (precision * recall) / (precision + recall)\n",
    "y_prob = svm_model.decision_function(X_test)\n",
    "fpr, tpr, thresholds = roc_curve(y_test, y_prob)\n",
    "roc_auc = roc_auc_score(y_test, y_prob) \n",
    "print('Confusion Matrix:\\n', confusion_mat)\n",
    "print(\"\\nClassification Report:\\n\", report)\n",
    "print('Accuracy:', accuracy)\n",
    "print('Precision:', precision)\n",
    "print('Recall:', recall)\n",
    "print('F1-Score:', f1_score)\n",
    "confusion_mat_display = ConfusionMatrixDisplay(confusion_mat).plot()\n",
    "roc_curve_display = RocCurveDisplay(fpr=fpr,tpr=tpr,roc_auc=roc_auc).plot()"
   ]
  },
  {
   "cell_type": "markdown",
   "id": "462f55d9",
   "metadata": {},
   "source": [
    "#### Naive Bayes Algorithms (NB)"
   ]
  },
  {
   "cell_type": "code",
   "execution_count": 26,
   "id": "2908818f",
   "metadata": {},
   "outputs": [
    {
     "name": "stdout",
     "output_type": "stream",
     "text": [
      "Confusion Matrix:\n",
      " [[278 620]\n",
      " [161 989]]\n",
      "\n",
      "Classification Report:\n",
      "               precision    recall  f1-score   support\n",
      "\n",
      "           0       0.63      0.31      0.42       898\n",
      "           1       0.61      0.86      0.72      1150\n",
      "\n",
      "    accuracy                           0.62      2048\n",
      "   macro avg       0.62      0.58      0.57      2048\n",
      "weighted avg       0.62      0.62      0.58      2048\n",
      "\n",
      "Accuracy: 0.61865234375\n",
      "Precision: 0.6146674953387197\n",
      "Recall: 0.86\n",
      "F1-Score: 0.7169264226168902\n"
     ]
    },
    {
     "data": {
      "image/png": "[encoded data removed]",
      "text/plain": [
       "<Figure size 432x288 with 2 Axes>"
      ]
     },
     "metadata": {
      "needs_background": "light"
     },
     "output_type": "display_data"
    },
    {
     "data": {
      "image/png": "[encoded data removed]",
      "text/plain": [
       "<Figure size 432x288 with 1 Axes>"
      ]
     },
     "metadata": {
      "needs_background": "light"
     },
     "output_type": "display_data"
    }
   ],
   "source": [
    "from sklearn.naive_bayes import MultinomialNB\n",
    "NB = MultinomialNB()\n",
    "NB.fit(X_train, y_train)\n",
    "y_pred = NB.predict(X_test)\n",
    "confusion_mat = confusion_matrix(y_test, y_pred)\n",
    "report = classification_report(y_test, y_pred)\n",
    "TN, FP, FN, TP = confusion_mat.ravel()\n",
    "accuracy = (TP + TN) / (TP + TN + FP + FN)\n",
    "precision = TP / (TP + FP)\n",
    "recall = TP / (TP + FN)\n",
    "f1_score = 2 * (precision * recall) / (precision + recall)\n",
    "y_prob = NB.predict_proba(X_test)\n",
    "fpr, tpr, thresholds = roc_curve(y_test, y_prob[:, 1])\n",
    "roc_auc = auc(fpr, tpr) \n",
    "print('Confusion Matrix:\\n', confusion_mat)\n",
    "print(\"\\nClassification Report:\\n\", report)\n",
    "print('Accuracy:', accuracy)\n",
    "print('Precision:', precision)\n",
    "print('Recall:', recall)\n",
    "print('F1-Score:', f1_score)\n",
    "confusion_mat_display = ConfusionMatrixDisplay(confusion_mat).plot()\n",
    "roc_curve_display = RocCurveDisplay(fpr=fpr,tpr=tpr,roc_auc=roc_auc).plot()"
   ]
  },
  {
   "cell_type": "markdown",
   "id": "5be82e18",
   "metadata": {},
   "source": [
    "#### Decision Tree (DT)"
   ]
  },
  {
   "cell_type": "code",
   "execution_count": 27,
   "id": "c12831fc",
   "metadata": {},
   "outputs": [
    {
     "name": "stdout",
     "output_type": "stream",
     "text": [
      "Confusion Matrix:\n",
      " [[ 116  782]\n",
      " [  69 1081]]\n",
      "\n",
      "Classification Report:\n",
      "               precision    recall  f1-score   support\n",
      "\n",
      "           0       0.63      0.13      0.21       898\n",
      "           1       0.58      0.94      0.72      1150\n",
      "\n",
      "    accuracy                           0.58      2048\n",
      "   macro avg       0.60      0.53      0.47      2048\n",
      "weighted avg       0.60      0.58      0.50      2048\n",
      "\n",
      "Accuracy: 0.58447265625\n",
      "Precision: 0.5802469135802469\n",
      "Recall: 0.94\n",
      "F1-Score: 0.717557251908397\n"
     ]
    },
    {
     "data": {
      "image/png": "[encoded data removed]",
      "text/plain": [
       "<Figure size 432x288 with 2 Axes>"
      ]
     },
     "metadata": {
      "needs_background": "light"
     },
     "output_type": "display_data"
    },
    {
     "data": {
      "image/png": "[encoded data removed]",
      "text/plain": [
       "<Figure size 432x288 with 1 Axes>"
      ]
     },
     "metadata": {
      "needs_background": "light"
     },
     "output_type": "display_data"
    }
   ],
   "source": [
    "clf = DecisionTreeClassifier(max_depth=5)\n",
    "clf.fit(X_train, y_train)\n",
    "y_pred = clf.predict(X_test)\n",
    "confusion_mat = confusion_matrix(y_test, y_pred)\n",
    "report = classification_report(y_test, y_pred)\n",
    "TN, FP, FN, TP = confusion_mat.ravel()\n",
    "accuracy = (TP + TN) / (TP + TN + FP + FN)\n",
    "precision = TP / (TP + FP)\n",
    "recall = TP / (TP + FN)\n",
    "f1_score = 2 * (precision * recall) / (precision + recall)\n",
    "y_prob = clf.predict_proba(X_test)\n",
    "fpr, tpr, thresholds = roc_curve(y_test, y_prob[:, 1])\n",
    "roc_auc = auc(fpr, tpr)\n",
    "print('Confusion Matrix:\\n', confusion_mat)\n",
    "print(\"\\nClassification Report:\\n\", report)\n",
    "print('Accuracy:', accuracy)\n",
    "print('Precision:', precision)\n",
    "print('Recall:', recall)\n",
    "print('F1-Score:', f1_score)\n",
    "confusion_mat_display = ConfusionMatrixDisplay(confusion_mat).plot()\n",
    "roc_curve_display = RocCurveDisplay(fpr=fpr,tpr=tpr,roc_auc=roc_auc).plot()"
   ]
  },
  {
   "cell_type": "markdown",
   "id": "15f0f576",
   "metadata": {},
   "source": [
    "#### Random Forest (RF)"
   ]
  },
  {
   "cell_type": "code",
   "execution_count": 28,
   "id": "5029254f",
   "metadata": {},
   "outputs": [
    {
     "name": "stdout",
     "output_type": "stream",
     "text": [
      "Confusion Matrix:\n",
      " [[484 414]\n",
      " [371 779]]\n",
      "\n",
      "Classification Report:\n",
      "               precision    recall  f1-score   support\n",
      "\n",
      "           0       0.57      0.54      0.55       898\n",
      "           1       0.65      0.68      0.66      1150\n",
      "\n",
      "    accuracy                           0.62      2048\n",
      "   macro avg       0.61      0.61      0.61      2048\n",
      "weighted avg       0.61      0.62      0.62      2048\n",
      "\n",
      "Accuracy: 0.61669921875\n",
      "Precision: 0.6529756915339481\n",
      "Recall: 0.6773913043478261\n",
      "F1-Score: 0.6649594536918482\n"
     ]
    },
    {
     "data": {
      "image/png": "[encoded data removed]",
      "text/plain": [
       "<Figure size 432x288 with 2 Axes>"
      ]
     },
     "metadata": {
      "needs_background": "light"
     },
     "output_type": "display_data"
    },
    {
     "data": {
      "image/png": "[encoded data removed]",
      "text/plain": [
       "<Figure size 432x288 with 1 Axes>"
      ]
     },
     "metadata": {
      "needs_background": "light"
     },
     "output_type": "display_data"
    }
   ],
   "source": [
    "clf = RandomForestClassifier(n_estimators=100, max_depth=10, criterion='entropy', random_state=42, class_weight='balanced', bootstrap=True)\n",
    "clf.fit(X_train,y_train)\n",
    "y_pred = clf.predict(X_test)\n",
    "confusion_mat = confusion_matrix(y_test, y_pred)\n",
    "report = classification_report(y_test, y_pred)\n",
    "TN, FP, FN, TP = confusion_mat.ravel()\n",
    "accuracy = (TP + TN) / (TP + TN + FP + FN)\n",
    "precision = TP / (TP + FP)\n",
    "recall = TP / (TP + FN)\n",
    "f1_score = 2 * (precision * recall) / (precision + recall)\n",
    "y_prob = NB.predict_proba(X_test)\n",
    "fpr, tpr, thresholds = roc_curve(y_test, y_prob[:, 1])\n",
    "roc_auc = auc(fpr, tpr)\n",
    "print('Confusion Matrix:\\n', confusion_mat)\n",
    "print(\"\\nClassification Report:\\n\", report)\n",
    "print('Accuracy:', accuracy)\n",
    "print('Precision:', precision)\n",
    "print('Recall:', recall)\n",
    "print('F1-Score:', f1_score)\n",
    "confusion_mat_display = ConfusionMatrixDisplay(confusion_mat).plot()\n",
    "roc_curve_display = RocCurveDisplay(fpr=fpr,tpr=tpr,roc_auc=roc_auc).plot()"
   ]
  },
  {
   "cell_type": "markdown",
   "id": "42650860",
   "metadata": {},
   "source": [
    "#### Passive Aggressive Algorithm"
   ]
  },
  {
   "cell_type": "code",
   "execution_count": 29,
   "id": "aa0fdd2b",
   "metadata": {},
   "outputs": [
    {
     "name": "stdout",
     "output_type": "stream",
     "text": [
      "Confusion Matrix:\n",
      " [[465 433]\n",
      " [478 672]]\n",
      "\n",
      "Classification Report:\n",
      "               precision    recall  f1-score   support\n",
      "\n",
      "           0       0.49      0.52      0.51       898\n",
      "           1       0.61      0.58      0.60      1150\n",
      "\n",
      "    accuracy                           0.56      2048\n",
      "   macro avg       0.55      0.55      0.55      2048\n",
      "weighted avg       0.56      0.56      0.56      2048\n",
      "\n",
      "Accuracy: 0.55517578125\n",
      "Precision: 0.6081447963800904\n",
      "Recall: 0.5843478260869566\n",
      "F1-Score: 0.5960088691796009\n"
     ]
    },
    {
     "data": {
      "image/png": "[encoded data removed]",
      "text/plain": [
       "<Figure size 432x288 with 2 Axes>"
      ]
     },
     "metadata": {
      "needs_background": "light"
     },
     "output_type": "display_data"
    },
    {
     "data": {
      "image/png": "[encoded data removed]",
      "text/plain": [
       "<Figure size 432x288 with 1 Axes>"
      ]
     },
     "metadata": {
      "needs_background": "light"
     },
     "output_type": "display_data"
    }
   ],
   "source": [
    "clf = PassiveAggressiveClassifier(max_iter=500)\n",
    "clf.fit(X_train, y_train)\n",
    "y_pred = clf.predict(X_test)\n",
    "confusion_mat = confusion_matrix(y_test, y_pred)\n",
    "report = classification_report(y_test, y_pred)\n",
    "TN, FP, FN, TP = confusion_mat.ravel()\n",
    "accuracy = (TP + TN) / (TP + TN + FP + FN)\n",
    "precision = TP / (TP + FP)\n",
    "recall = TP / (TP + FN)\n",
    "f1_score = 2 * (precision * recall) / (precision + recall)\n",
    "y_prob = clf.decision_function(X_test)\n",
    "fpr, tpr, thresholds = roc_curve(y_test, y_prob)\n",
    "roc_auc = roc_auc_score(y_test, y_prob) \n",
    "print('Confusion Matrix:\\n', confusion_mat)\n",
    "print(\"\\nClassification Report:\\n\", report)\n",
    "print('Accuracy:', accuracy)\n",
    "print('Precision:', precision)\n",
    "print('Recall:', recall)\n",
    "print('F1-Score:', f1_score)\n",
    "confusion_mat_display = ConfusionMatrixDisplay(confusion_mat).plot()\n",
    "roc_curve_display = RocCurveDisplay(fpr=fpr,tpr=tpr,roc_auc=roc_auc).plot()"
   ]
  },
  {
   "cell_type": "code",
   "execution_count": null,
   "id": "826561bd",
   "metadata": {},
   "outputs": [],
   "source": []
  },
  {
   "cell_type": "code",
   "execution_count": null,
   "id": "18b80682",
   "metadata": {},
   "outputs": [],
   "source": []
  }
 ],
 "metadata": {
  "kernelspec": {
   "display_name": "Python 3 (ipykernel)",
   "language": "python",
   "name": "python3"
  },
  "language_info": {
   "codemirror_mode": {
    "name": "ipython",
    "version": 3
   },
   "file_extension": ".py",
   "mimetype": "text/x-python",
   "name": "python",
   "nbconvert_exporter": "python",
   "pygments_lexer": "ipython3",
   "version": "3.9.12"
  }
 },
 "nbformat": 4,
 "nbformat_minor": 5
}
