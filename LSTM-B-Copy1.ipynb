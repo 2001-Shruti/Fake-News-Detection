{
 "cells": [
  {
   "cell_type": "code",
   "execution_count": 1,
   "id": "865d7676",
   "metadata": {},
   "outputs": [],
   "source": [
    "import numpy as np\n",
    "import pandas as pd\n",
    "import matplotlib.pyplot as plt\n",
    "import seaborn as sns\n",
    "from sklearn.model_selection import train_test_split\n",
    "from sklearn.preprocessing import LabelEncoder\n",
    "from tensorflow.keras.preprocessing.text import Tokenizer\n",
    "from tensorflow.keras.preprocessing.sequence import pad_sequences\n",
    "from tensorflow.keras.models import Sequential\n",
    "from tensorflow.keras.layers import Embedding, LSTM, Dense, Dropout\n",
    "from keras.callbacks import EarlyStopping\n",
    "from sklearn.metrics import confusion_matrix, classification_report, roc_curve, roc_auc_score"
   ]
  },
  {
   "cell_type": "code",
   "execution_count": 2,
   "id": "7bd6ac98",
   "metadata": {},
   "outputs": [],
   "source": [
    "liar_data = pd.read_csv('feverous.csv', names=[\"ID\", \"label\", \"claim\", \"evidence\", \"annotator_operations\", \"expected_challenge\", \"challenge\"])"
   ]
  },
  {
   "cell_type": "code",
   "execution_count": 3,
   "id": "3a51a71a",
   "metadata": {},
   "outputs": [],
   "source": [
    "liar_data = liar_data.drop(0)"
   ]
  },
  {
   "cell_type": "code",
   "execution_count": 4,
   "id": "afc7aeb5",
   "metadata": {},
   "outputs": [],
   "source": [
    "liar_data['label'] = liar_data['label'].replace({\n",
    "    'NOT ENOUGH INFO': 0,\n",
    "    'REFUTES': 0,\n",
    "    'SUPPORTS': 1,\n",
    "})"
   ]
  },
  {
   "cell_type": "code",
   "execution_count": 5,
   "id": "e500500a",
   "metadata": {},
   "outputs": [],
   "source": [
    "# Select only the relevant columns for our task\n",
    "liar_data = liar_data[['claim', 'label']]"
   ]
  },
  {
   "cell_type": "code",
   "execution_count": 6,
   "id": "68f1e4a2",
   "metadata": {},
   "outputs": [],
   "source": [
    "# Split the data into training and testing sets\n",
    "train_data, test_data = train_test_split(liar_data, test_size=0.2, random_state=42)"
   ]
  },
  {
   "cell_type": "code",
   "execution_count": 7,
   "id": "18d67925",
   "metadata": {},
   "outputs": [],
   "source": [
    "# Tokenize the statements using Keras' Tokenizer\n",
    "tokenizer = Tokenizer(num_words=5000)\n",
    "tokenizer.fit_on_texts(train_data['claim'])"
   ]
  },
  {
   "cell_type": "code",
   "execution_count": 8,
   "id": "caa67616",
   "metadata": {},
   "outputs": [],
   "source": [
    "# Convert the tokenized sequences to padded sequences\n",
    "X_train = pad_sequences(tokenizer.texts_to_sequences(train_data['claim']), maxlen=100)\n",
    "X_test = pad_sequences(tokenizer.texts_to_sequences(test_data['claim']), maxlen=100)"
   ]
  },
  {
   "cell_type": "code",
   "execution_count": 9,
   "id": "b4dfc5cd",
   "metadata": {},
   "outputs": [],
   "source": [
    "# Build the LSTM model\n",
    "model = Sequential()\n",
    "model.add(Embedding(5000, 64))\n",
    "model.add(LSTM(128, dropout=0.2, recurrent_dropout=0.2))\n",
    "model.add(Dense(64, activation='relu'))\n",
    "model.add(Dropout(0.5))\n",
    "model.add(Dense(6, activation='softmax'))"
   ]
  },
  {
   "cell_type": "code",
   "execution_count": 10,
   "id": "2ddbf7f8",
   "metadata": {},
   "outputs": [],
   "source": [
    "# Compile the model\n",
    "model.compile(loss='sparse_categorical_crossentropy', optimizer='adam', metrics=['accuracy'])"
   ]
  },
  {
   "cell_type": "code",
   "execution_count": 11,
   "id": "e0c2f284",
   "metadata": {},
   "outputs": [
    {
     "name": "stdout",
     "output_type": "stream",
     "text": [
      "Epoch 1/50\n",
      "802/802 [==============================] - 149s 173ms/step - loss: 0.6976 - accuracy: 0.5808 - val_loss: 0.6791 - val_accuracy: 0.5861\n",
      "Epoch 2/50\n",
      "802/802 [==============================] - 125s 155ms/step - loss: 0.6757 - accuracy: 0.5940 - val_loss: 0.6661 - val_accuracy: 0.6162\n",
      "Epoch 3/50\n",
      "802/802 [==============================] - 129s 161ms/step - loss: 0.6410 - accuracy: 0.6383 - val_loss: 0.6420 - val_accuracy: 0.6418\n",
      "Epoch 4/50\n",
      "802/802 [==============================] - 159s 198ms/step - loss: 0.6135 - accuracy: 0.6683 - val_loss: 0.6442 - val_accuracy: 0.6232\n",
      "Epoch 5/50\n",
      "802/802 [==============================] - 165s 206ms/step - loss: 0.5860 - accuracy: 0.6926 - val_loss: 0.6584 - val_accuracy: 0.6306\n",
      "Epoch 6/50\n",
      "802/802 [==============================] - 158s 198ms/step - loss: 0.5598 - accuracy: 0.7112 - val_loss: 0.6583 - val_accuracy: 0.6397\n"
     ]
    },
    {
     "data": {
      "text/plain": [
       "<keras.callbacks.History at 0x2ee044675e0>"
      ]
     },
     "execution_count": 11,
     "metadata": {},
     "output_type": "execute_result"
    }
   ],
   "source": [
    "# Train the model\n",
    "early_stop = EarlyStopping(monitor='val_loss', patience=3)\n",
    "model.fit(X_train, train_data['label'], batch_size=64, epochs=50, validation_split=0.1, callbacks=[early_stop])"
   ]
  },
  {
   "cell_type": "code",
   "execution_count": 12,
   "id": "10f7e617",
   "metadata": {},
   "outputs": [
    {
     "name": "stdout",
     "output_type": "stream",
     "text": [
      "223/223 [==============================] - 17s 78ms/step - loss: 0.6733 - accuracy: 0.6280\n",
      "Test score: 0.6733081936836243\n",
      "Test accuracy: 0.6280243992805481\n"
     ]
    }
   ],
   "source": [
    "# Evaluate the model on the test set\n",
    "score, acc = model.evaluate(X_test, test_data['label'], batch_size=64)\n",
    "print('Test score:', score)\n",
    "print('Test accuracy:', acc)"
   ]
  },
  {
   "cell_type": "code",
   "execution_count": 13,
   "id": "888237e5",
   "metadata": {},
   "outputs": [
    {
     "name": "stdout",
     "output_type": "stream",
     "text": [
      "446/446 [==============================] - 15s 30ms/step\n"
     ]
    }
   ],
   "source": [
    "# Make predictions on the test set and calculate evaluation metrics\n",
    "y_pred = model.predict(X_test)\n",
    "y_pred_labels = np.argmax(y_pred, axis=1)"
   ]
  },
  {
   "cell_type": "code",
   "execution_count": 14,
   "id": "f1c701c7",
   "metadata": {},
   "outputs": [
    {
     "name": "stdout",
     "output_type": "stream",
     "text": [
      "(14259,)\n",
      "(14259, 6)\n"
     ]
    }
   ],
   "source": [
    "print(test_data['label'].shape)\n",
    "print(y_pred.shape)"
   ]
  },
  {
   "cell_type": "code",
   "execution_count": 15,
   "id": "44a9bc13",
   "metadata": {},
   "outputs": [
    {
     "name": "stdout",
     "output_type": "stream",
     "text": [
      "              precision    recall  f1-score   support\n",
      "\n",
      "           0       0.59      0.35      0.44      5959\n",
      "           1       0.64      0.83      0.72      8300\n",
      "\n",
      "    accuracy                           0.63     14259\n",
      "   macro avg       0.62      0.59      0.58     14259\n",
      "weighted avg       0.62      0.63      0.60     14259\n",
      "\n"
     ]
    }
   ],
   "source": [
    "print(classification_report(test_data['label'], y_pred_labels))"
   ]
  },
  {
   "cell_type": "code",
   "execution_count": 16,
   "id": "fa06e775",
   "metadata": {},
   "outputs": [
    {
     "name": "stdout",
     "output_type": "stream",
     "text": [
      "Confusion Matrix:\n",
      "[[2057 3902]\n",
      " [1402 6898]]\n"
     ]
    },
    {
     "data": {
      "image/png": "[encoded data removed]",
      "text/plain": [
       "<Figure size 432x288 with 2 Axes>"
      ]
     },
     "metadata": {
      "needs_background": "light"
     },
     "output_type": "display_data"
    }
   ],
   "source": [
    "cm = confusion_matrix(test_data['label'], y_pred_labels)\n",
    "print(f'Confusion Matrix:\\n{cm}')\n",
    "sns.heatmap(cm, annot=True, fmt='g')\n",
    "plt.title('Confusion Matrix')\n",
    "plt.xlabel('Predicted Label')\n",
    "plt.ylabel('True Label')\n",
    "plt.show()"
   ]
  },
  {
   "cell_type": "code",
   "execution_count": 17,
   "id": "87c9ab4a",
   "metadata": {},
   "outputs": [
    {
     "name": "stdout",
     "output_type": "stream",
     "text": [
      "AUC: 0.588\n"
     ]
    },
    {
     "data": {
      "image/png": "[encoded data removed]",
      "text/plain": [
       "<Figure size 432x288 with 1 Axes>"
      ]
     },
     "metadata": {
      "needs_background": "light"
     },
     "output_type": "display_data"
    }
   ],
   "source": [
    "fpr, tpr, thresholds = roc_curve(test_data['label'], y_pred_labels)\n",
    "auc = roc_auc_score(test_data['label'], y_pred_labels)\n",
    "print(f'AUC: {auc:.3f}')\n",
    "plt.plot(fpr, tpr, label=f'AUC = {auc:.3f}')\n",
    "plt.plot([0, 1], [0, 1], 'r--')\n",
    "plt.title('ROC Curve')\n",
    "plt.xlabel('False Positive Rate')\n",
    "plt.ylabel('True Positive Rate')\n",
    "plt.legend()\n",
    "plt.show()"
   ]
  }
 ],
 "metadata": {
  "kernelspec": {
   "display_name": "Python 3 (ipykernel)",
   "language": "python",
   "name": "python3"
  },
  "language_info": {
   "codemirror_mode": {
    "name": "ipython",
    "version": 3
   },
   "file_extension": ".py",
   "mimetype": "text/x-python",
   "name": "python",
   "nbconvert_exporter": "python",
   "pygments_lexer": "ipython3",
   "version": "3.9.12"
  }
 },
 "nbformat": 4,
 "nbformat_minor": 5
}
