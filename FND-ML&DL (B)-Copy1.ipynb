{
 "cells": [
  {
   "cell_type": "markdown",
   "id": "9d40c0b2",
   "metadata": {},
   "source": [
    "# Fake News Detection using Machine Learning and Deep Learning"
   ]
  },
  {
   "attachments": {
    "nb.jfif": {
     "image/jpeg": "[encoded data removed]"
    }
   },
   "cell_type": "markdown",
   "id": "92e6a582",
   "metadata": {},
   "source": [
    "![nb.jfif](attachment:nb.jfif)"
   ]
  },
  {
   "cell_type": "markdown",
   "id": "d59bfb35",
   "metadata": {},
   "source": [
    "#### Importing the neccssary Libraries and Loading the Dataset\n"
   ]
  },
  {
   "cell_type": "code",
   "execution_count": 1,
   "id": "39791d6e",
   "metadata": {},
   "outputs": [],
   "source": [
    "import numpy as np\n",
    "import pandas as pd\n",
    "import matplotlib.pyplot as py\n",
    "import seaborn as sns\n",
    "import re\n",
    "from nltk.corpus import stopwords\n",
    "from nltk.stem.porter import PorterStemmer \n",
    "from sklearn.feature_extraction.text import TfidfVectorizer\n",
    "from sklearn.model_selection import train_test_split\n",
    "from sklearn.linear_model import LogisticRegression\n",
    "from sklearn.ensemble import RandomForestClassifier\n",
    "from sklearn.tree import DecisionTreeClassifier\n",
    "from sklearn.linear_model import PassiveAggressiveClassifier\n",
    "from sklearn.metrics import accuracy_score, confusion_matrix, ConfusionMatrixDisplay, roc_curve, roc_auc_score,auc, classification_report, RocCurveDisplay\n",
    "from sklearn.svm import SVC\n",
    "from sklearn.svm import LinearSVC\n",
    "from sklearn.naive_bayes import MultinomialNB\n",
    "from sklearn.multiclass import OneVsRestClassifier"
   ]
  },
  {
   "cell_type": "code",
   "execution_count": 2,
   "id": "599fa7a5",
   "metadata": {},
   "outputs": [],
   "source": [
    "news_df = pd.read_csv('feverous.csv', names=[\"ID\", \"label\", \"claim\", \"evidence\", \"annotator_operations\", \"expected_challenge\", \"challenge\"])"
   ]
  },
  {
   "cell_type": "code",
   "execution_count": 3,
   "id": "2995bc5b",
   "metadata": {},
   "outputs": [],
   "source": [
    "news_df = news_df.drop(0)"
   ]
  },
  {
   "cell_type": "code",
   "execution_count": 4,
   "id": "1290e271",
   "metadata": {},
   "outputs": [],
   "source": [
    "news_df['label'] = news_df['label'].replace({\n",
    "    'NOT ENOUGH INFO': 0,\n",
    "    'REFUTES': 0,\n",
    "    'SUPPORTS': 1,\n",
    "})"
   ]
  },
  {
   "cell_type": "code",
   "execution_count": 5,
   "id": "7b6dc8b2",
   "metadata": {},
   "outputs": [
    {
     "data": {
      "text/html": [
       "<div>\n",
       "<style scoped>\n",
       "    .dataframe tbody tr th:only-of-type {\n",
       "        vertical-align: middle;\n",
       "    }\n",
       "\n",
       "    .dataframe tbody tr th {\n",
       "        vertical-align: top;\n",
       "    }\n",
       "\n",
       "    .dataframe thead th {\n",
       "        text-align: right;\n",
       "    }\n",
       "</style>\n",
       "<table border=\"1\" class=\"dataframe\">\n",
       "  <thead>\n",
       "    <tr style=\"text-align: right;\">\n",
       "      <th></th>\n",
       "      <th>ID</th>\n",
       "      <th>label</th>\n",
       "      <th>claim</th>\n",
       "      <th>evidence</th>\n",
       "      <th>annotator_operations</th>\n",
       "      <th>expected_challenge</th>\n",
       "      <th>challenge</th>\n",
       "    </tr>\n",
       "  </thead>\n",
       "  <tbody>\n",
       "    <tr>\n",
       "      <th>1</th>\n",
       "      <td>24435.0</td>\n",
       "      <td>0</td>\n",
       "      <td>Michael Folivi competed with ten teams from 20...</td>\n",
       "      <td>[{'content': ['Michael Folivi_cell_1_2_0', 'Mi...</td>\n",
       "      <td>[{'operation': 'start', 'value': 'start', 'tim...</td>\n",
       "      <td>NaN</td>\n",
       "      <td>Numerical Reasoning</td>\n",
       "    </tr>\n",
       "    <tr>\n",
       "      <th>2</th>\n",
       "      <td>14802.0</td>\n",
       "      <td>1</td>\n",
       "      <td>Asiatic Society of Bangladesh(housed in Nimtal...</td>\n",
       "      <td>[{'content': ['Asiatic Society of Bangladesh_s...</td>\n",
       "      <td>[{'operation': 'start', 'value': 'start', 'tim...</td>\n",
       "      <td>NaN</td>\n",
       "      <td>Other</td>\n",
       "    </tr>\n",
       "    <tr>\n",
       "      <th>3</th>\n",
       "      <td>28540.0</td>\n",
       "      <td>1</td>\n",
       "      <td>Lindfield railway station has 3 bus routes, in...</td>\n",
       "      <td>[{'content': ['Lindfield railway station_sente...</td>\n",
       "      <td>[{'operation': 'start', 'value': 'start', 'tim...</td>\n",
       "      <td>NaN</td>\n",
       "      <td>Other</td>\n",
       "    </tr>\n",
       "    <tr>\n",
       "      <th>4</th>\n",
       "      <td>71874.0</td>\n",
       "      <td>1</td>\n",
       "      <td>Mukaradeeb('Wolf's Den') is a city in Iraq nea...</td>\n",
       "      <td>[{'content': ['Mukaradeeb_sentence_1', 'Mukara...</td>\n",
       "      <td>[{'operation': 'start', 'value': 'start', 'tim...</td>\n",
       "      <td>NaN</td>\n",
       "      <td>Combining Tables and Text</td>\n",
       "    </tr>\n",
       "    <tr>\n",
       "      <th>5</th>\n",
       "      <td>70296.0</td>\n",
       "      <td>1</td>\n",
       "      <td>Herbivore men was coined by Maki Fukasawa and ...</td>\n",
       "      <td>[{'content': ['Herbivore men_sentence_1', 'Her...</td>\n",
       "      <td>[{'operation': 'start', 'value': 'start', 'tim...</td>\n",
       "      <td>NaN</td>\n",
       "      <td>Multi-hop Reasoning</td>\n",
       "    </tr>\n",
       "  </tbody>\n",
       "</table>\n",
       "</div>"
      ],
      "text/plain": [
       "        ID  label                                              claim  \\\n",
       "1  24435.0      0  Michael Folivi competed with ten teams from 20...   \n",
       "2  14802.0      1  Asiatic Society of Bangladesh(housed in Nimtal...   \n",
       "3  28540.0      1  Lindfield railway station has 3 bus routes, in...   \n",
       "4  71874.0      1  Mukaradeeb('Wolf's Den') is a city in Iraq nea...   \n",
       "5  70296.0      1  Herbivore men was coined by Maki Fukasawa and ...   \n",
       "\n",
       "                                            evidence  \\\n",
       "1  [{'content': ['Michael Folivi_cell_1_2_0', 'Mi...   \n",
       "2  [{'content': ['Asiatic Society of Bangladesh_s...   \n",
       "3  [{'content': ['Lindfield railway station_sente...   \n",
       "4  [{'content': ['Mukaradeeb_sentence_1', 'Mukara...   \n",
       "5  [{'content': ['Herbivore men_sentence_1', 'Her...   \n",
       "\n",
       "                                annotator_operations  expected_challenge  \\\n",
       "1  [{'operation': 'start', 'value': 'start', 'tim...                 NaN   \n",
       "2  [{'operation': 'start', 'value': 'start', 'tim...                 NaN   \n",
       "3  [{'operation': 'start', 'value': 'start', 'tim...                 NaN   \n",
       "4  [{'operation': 'start', 'value': 'start', 'tim...                 NaN   \n",
       "5  [{'operation': 'start', 'value': 'start', 'tim...                 NaN   \n",
       "\n",
       "                   challenge  \n",
       "1        Numerical Reasoning  \n",
       "2                      Other  \n",
       "3                      Other  \n",
       "4  Combining Tables and Text  \n",
       "5        Multi-hop Reasoning  "
      ]
     },
     "execution_count": 5,
     "metadata": {},
     "output_type": "execute_result"
    }
   ],
   "source": [
    "news_df.head()"
   ]
  },
  {
   "cell_type": "code",
   "execution_count": 6,
   "id": "a7ae334e",
   "metadata": {},
   "outputs": [
    {
     "data": {
      "text/plain": [
       "(71291, 7)"
      ]
     },
     "execution_count": 6,
     "metadata": {},
     "output_type": "execute_result"
    }
   ],
   "source": [
    "news_df.shape"
   ]
  },
  {
   "cell_type": "code",
   "execution_count": 7,
   "id": "58a825b2",
   "metadata": {},
   "outputs": [
    {
     "data": {
      "text/plain": [
       "<AxesSubplot:xlabel='label', ylabel='count'>"
      ]
     },
     "execution_count": 7,
     "metadata": {},
     "output_type": "execute_result"
    },
    {
     "data": {
      "image/png": "[encoded data removed]",
      "text/plain": [
       "<Figure size 432x288 with 1 Axes>"
      ]
     },
     "metadata": {
      "needs_background": "light"
     },
     "output_type": "display_data"
    }
   ],
   "source": [
    "sns.countplot(x='label', data=news_df)"
   ]
  },
  {
   "cell_type": "markdown",
   "id": "28857ee9",
   "metadata": {},
   "source": [
    "#### Data-Preprocessing"
   ]
  },
  {
   "cell_type": "code",
   "execution_count": 8,
   "id": "d75b49ad",
   "metadata": {},
   "outputs": [
    {
     "data": {
      "text/plain": [
       "ID                          0\n",
       "label                       0\n",
       "claim                       0\n",
       "evidence                    0\n",
       "annotator_operations        0\n",
       "expected_challenge      71291\n",
       "challenge                   0\n",
       "dtype: int64"
      ]
     },
     "execution_count": 8,
     "metadata": {},
     "output_type": "execute_result"
    }
   ],
   "source": [
    "news_df.isna().sum()"
   ]
  },
  {
   "cell_type": "code",
   "execution_count": 9,
   "id": "537c9bf9",
   "metadata": {},
   "outputs": [],
   "source": [
    "news_df = news_df.fillna(' ')"
   ]
  },
  {
   "cell_type": "code",
   "execution_count": 10,
   "id": "52409ca5",
   "metadata": {},
   "outputs": [
    {
     "data": {
      "text/plain": [
       "ID                      0\n",
       "label                   0\n",
       "claim                   0\n",
       "evidence                0\n",
       "annotator_operations    0\n",
       "expected_challenge      0\n",
       "challenge               0\n",
       "dtype: int64"
      ]
     },
     "execution_count": 10,
     "metadata": {},
     "output_type": "execute_result"
    }
   ],
   "source": [
    "news_df.isna().sum()"
   ]
  },
  {
   "cell_type": "code",
   "execution_count": 11,
   "id": "83f628fa",
   "metadata": {},
   "outputs": [],
   "source": [
    "news_df['content'] = news_df['claim']"
   ]
  },
  {
   "cell_type": "code",
   "execution_count": 12,
   "id": "99e81380",
   "metadata": {},
   "outputs": [
    {
     "data": {
      "text/html": [
       "<div>\n",
       "<style scoped>\n",
       "    .dataframe tbody tr th:only-of-type {\n",
       "        vertical-align: middle;\n",
       "    }\n",
       "\n",
       "    .dataframe tbody tr th {\n",
       "        vertical-align: top;\n",
       "    }\n",
       "\n",
       "    .dataframe thead th {\n",
       "        text-align: right;\n",
       "    }\n",
       "</style>\n",
       "<table border=\"1\" class=\"dataframe\">\n",
       "  <thead>\n",
       "    <tr style=\"text-align: right;\">\n",
       "      <th></th>\n",
       "      <th>ID</th>\n",
       "      <th>label</th>\n",
       "      <th>claim</th>\n",
       "      <th>evidence</th>\n",
       "      <th>annotator_operations</th>\n",
       "      <th>expected_challenge</th>\n",
       "      <th>challenge</th>\n",
       "      <th>content</th>\n",
       "    </tr>\n",
       "  </thead>\n",
       "  <tbody>\n",
       "    <tr>\n",
       "      <th>1</th>\n",
       "      <td>24435.0</td>\n",
       "      <td>0</td>\n",
       "      <td>Michael Folivi competed with ten teams from 20...</td>\n",
       "      <td>[{'content': ['Michael Folivi_cell_1_2_0', 'Mi...</td>\n",
       "      <td>[{'operation': 'start', 'value': 'start', 'tim...</td>\n",
       "      <td></td>\n",
       "      <td>Numerical Reasoning</td>\n",
       "      <td>Michael Folivi competed with ten teams from 20...</td>\n",
       "    </tr>\n",
       "    <tr>\n",
       "      <th>2</th>\n",
       "      <td>14802.0</td>\n",
       "      <td>1</td>\n",
       "      <td>Asiatic Society of Bangladesh(housed in Nimtal...</td>\n",
       "      <td>[{'content': ['Asiatic Society of Bangladesh_s...</td>\n",
       "      <td>[{'operation': 'start', 'value': 'start', 'tim...</td>\n",
       "      <td></td>\n",
       "      <td>Other</td>\n",
       "      <td>Asiatic Society of Bangladesh(housed in Nimtal...</td>\n",
       "    </tr>\n",
       "    <tr>\n",
       "      <th>3</th>\n",
       "      <td>28540.0</td>\n",
       "      <td>1</td>\n",
       "      <td>Lindfield railway station has 3 bus routes, in...</td>\n",
       "      <td>[{'content': ['Lindfield railway station_sente...</td>\n",
       "      <td>[{'operation': 'start', 'value': 'start', 'tim...</td>\n",
       "      <td></td>\n",
       "      <td>Other</td>\n",
       "      <td>Lindfield railway station has 3 bus routes, in...</td>\n",
       "    </tr>\n",
       "    <tr>\n",
       "      <th>4</th>\n",
       "      <td>71874.0</td>\n",
       "      <td>1</td>\n",
       "      <td>Mukaradeeb('Wolf's Den') is a city in Iraq nea...</td>\n",
       "      <td>[{'content': ['Mukaradeeb_sentence_1', 'Mukara...</td>\n",
       "      <td>[{'operation': 'start', 'value': 'start', 'tim...</td>\n",
       "      <td></td>\n",
       "      <td>Combining Tables and Text</td>\n",
       "      <td>Mukaradeeb('Wolf's Den') is a city in Iraq nea...</td>\n",
       "    </tr>\n",
       "    <tr>\n",
       "      <th>5</th>\n",
       "      <td>70296.0</td>\n",
       "      <td>1</td>\n",
       "      <td>Herbivore men was coined by Maki Fukasawa and ...</td>\n",
       "      <td>[{'content': ['Herbivore men_sentence_1', 'Her...</td>\n",
       "      <td>[{'operation': 'start', 'value': 'start', 'tim...</td>\n",
       "      <td></td>\n",
       "      <td>Multi-hop Reasoning</td>\n",
       "      <td>Herbivore men was coined by Maki Fukasawa and ...</td>\n",
       "    </tr>\n",
       "    <tr>\n",
       "      <th>...</th>\n",
       "      <td>...</td>\n",
       "      <td>...</td>\n",
       "      <td>...</td>\n",
       "      <td>...</td>\n",
       "      <td>...</td>\n",
       "      <td>...</td>\n",
       "      <td>...</td>\n",
       "      <td>...</td>\n",
       "    </tr>\n",
       "    <tr>\n",
       "      <th>71287</th>\n",
       "      <td>40197.0</td>\n",
       "      <td>1</td>\n",
       "      <td>Monica Frassoni, European Green Party Spokespe...</td>\n",
       "      <td>[{'content': ['Monica Frassoni_cell_0_5_1'], '...</td>\n",
       "      <td>[{'operation': 'start', 'value': 'start', 'tim...</td>\n",
       "      <td></td>\n",
       "      <td>Other</td>\n",
       "      <td>Monica Frassoni, European Green Party Spokespe...</td>\n",
       "    </tr>\n",
       "    <tr>\n",
       "      <th>71288</th>\n",
       "      <td>28692.0</td>\n",
       "      <td>1</td>\n",
       "      <td>Emil Roy was a native of Brighton, Massachuset...</td>\n",
       "      <td>[{'content': ['Emil Roy_sentence_3', 'Emil Roy...</td>\n",
       "      <td>[{'operation': 'start', 'value': 'start', 'tim...</td>\n",
       "      <td></td>\n",
       "      <td>Other</td>\n",
       "      <td>Emil Roy was a native of Brighton, Massachuset...</td>\n",
       "    </tr>\n",
       "    <tr>\n",
       "      <th>71289</th>\n",
       "      <td>43014.0</td>\n",
       "      <td>0</td>\n",
       "      <td>Francisco Antonio Zea began studying in Medell...</td>\n",
       "      <td>[{'content': ['Francisco Antonio Zea_sentence_...</td>\n",
       "      <td>[{'operation': 'start', 'value': 'start', 'tim...</td>\n",
       "      <td></td>\n",
       "      <td>Other</td>\n",
       "      <td>Francisco Antonio Zea began studying in Medell...</td>\n",
       "    </tr>\n",
       "    <tr>\n",
       "      <th>71290</th>\n",
       "      <td>22198.0</td>\n",
       "      <td>1</td>\n",
       "      <td>Vernors, originally sold as Vernor’s, moved it...</td>\n",
       "      <td>[{'content': ['Vernors_sentence_11', 'Vernors_...</td>\n",
       "      <td>[{'operation': 'start', 'value': 'start', 'tim...</td>\n",
       "      <td></td>\n",
       "      <td>Other</td>\n",
       "      <td>Vernors, originally sold as Vernor’s, moved it...</td>\n",
       "    </tr>\n",
       "    <tr>\n",
       "      <th>71291</th>\n",
       "      <td>27530.0</td>\n",
       "      <td>1</td>\n",
       "      <td>Convergenza per il Friuli, a strong supporter ...</td>\n",
       "      <td>[{'content': ['Convergence for Friuli_sentence...</td>\n",
       "      <td>[{'operation': 'start', 'value': 'start', 'tim...</td>\n",
       "      <td></td>\n",
       "      <td>Other</td>\n",
       "      <td>Convergenza per il Friuli, a strong supporter ...</td>\n",
       "    </tr>\n",
       "  </tbody>\n",
       "</table>\n",
       "<p>71291 rows × 8 columns</p>\n",
       "</div>"
      ],
      "text/plain": [
       "            ID  label                                              claim  \\\n",
       "1      24435.0      0  Michael Folivi competed with ten teams from 20...   \n",
       "2      14802.0      1  Asiatic Society of Bangladesh(housed in Nimtal...   \n",
       "3      28540.0      1  Lindfield railway station has 3 bus routes, in...   \n",
       "4      71874.0      1  Mukaradeeb('Wolf's Den') is a city in Iraq nea...   \n",
       "5      70296.0      1  Herbivore men was coined by Maki Fukasawa and ...   \n",
       "...        ...    ...                                                ...   \n",
       "71287  40197.0      1  Monica Frassoni, European Green Party Spokespe...   \n",
       "71288  28692.0      1  Emil Roy was a native of Brighton, Massachuset...   \n",
       "71289  43014.0      0  Francisco Antonio Zea began studying in Medell...   \n",
       "71290  22198.0      1  Vernors, originally sold as Vernor’s, moved it...   \n",
       "71291  27530.0      1  Convergenza per il Friuli, a strong supporter ...   \n",
       "\n",
       "                                                evidence  \\\n",
       "1      [{'content': ['Michael Folivi_cell_1_2_0', 'Mi...   \n",
       "2      [{'content': ['Asiatic Society of Bangladesh_s...   \n",
       "3      [{'content': ['Lindfield railway station_sente...   \n",
       "4      [{'content': ['Mukaradeeb_sentence_1', 'Mukara...   \n",
       "5      [{'content': ['Herbivore men_sentence_1', 'Her...   \n",
       "...                                                  ...   \n",
       "71287  [{'content': ['Monica Frassoni_cell_0_5_1'], '...   \n",
       "71288  [{'content': ['Emil Roy_sentence_3', 'Emil Roy...   \n",
       "71289  [{'content': ['Francisco Antonio Zea_sentence_...   \n",
       "71290  [{'content': ['Vernors_sentence_11', 'Vernors_...   \n",
       "71291  [{'content': ['Convergence for Friuli_sentence...   \n",
       "\n",
       "                                    annotator_operations expected_challenge  \\\n",
       "1      [{'operation': 'start', 'value': 'start', 'tim...                      \n",
       "2      [{'operation': 'start', 'value': 'start', 'tim...                      \n",
       "3      [{'operation': 'start', 'value': 'start', 'tim...                      \n",
       "4      [{'operation': 'start', 'value': 'start', 'tim...                      \n",
       "5      [{'operation': 'start', 'value': 'start', 'tim...                      \n",
       "...                                                  ...                ...   \n",
       "71287  [{'operation': 'start', 'value': 'start', 'tim...                      \n",
       "71288  [{'operation': 'start', 'value': 'start', 'tim...                      \n",
       "71289  [{'operation': 'start', 'value': 'start', 'tim...                      \n",
       "71290  [{'operation': 'start', 'value': 'start', 'tim...                      \n",
       "71291  [{'operation': 'start', 'value': 'start', 'tim...                      \n",
       "\n",
       "                       challenge  \\\n",
       "1            Numerical Reasoning   \n",
       "2                          Other   \n",
       "3                          Other   \n",
       "4      Combining Tables and Text   \n",
       "5            Multi-hop Reasoning   \n",
       "...                          ...   \n",
       "71287                      Other   \n",
       "71288                      Other   \n",
       "71289                      Other   \n",
       "71290                      Other   \n",
       "71291                      Other   \n",
       "\n",
       "                                                 content  \n",
       "1      Michael Folivi competed with ten teams from 20...  \n",
       "2      Asiatic Society of Bangladesh(housed in Nimtal...  \n",
       "3      Lindfield railway station has 3 bus routes, in...  \n",
       "4      Mukaradeeb('Wolf's Den') is a city in Iraq nea...  \n",
       "5      Herbivore men was coined by Maki Fukasawa and ...  \n",
       "...                                                  ...  \n",
       "71287  Monica Frassoni, European Green Party Spokespe...  \n",
       "71288  Emil Roy was a native of Brighton, Massachuset...  \n",
       "71289  Francisco Antonio Zea began studying in Medell...  \n",
       "71290  Vernors, originally sold as Vernor’s, moved it...  \n",
       "71291  Convergenza per il Friuli, a strong supporter ...  \n",
       "\n",
       "[71291 rows x 8 columns]"
      ]
     },
     "execution_count": 12,
     "metadata": {},
     "output_type": "execute_result"
    }
   ],
   "source": [
    "news_df"
   ]
  },
  {
   "cell_type": "code",
   "execution_count": 13,
   "id": "fb9534ff",
   "metadata": {},
   "outputs": [
    {
     "data": {
      "text/plain": [
       "1        Michael Folivi competed with ten teams from 20...\n",
       "2        Asiatic Society of Bangladesh(housed in Nimtal...\n",
       "3        Lindfield railway station has 3 bus routes, in...\n",
       "4        Mukaradeeb('Wolf's Den') is a city in Iraq nea...\n",
       "5        Herbivore men was coined by Maki Fukasawa and ...\n",
       "                               ...                        \n",
       "71287    Monica Frassoni, European Green Party Spokespe...\n",
       "71288    Emil Roy was a native of Brighton, Massachuset...\n",
       "71289    Francisco Antonio Zea began studying in Medell...\n",
       "71290    Vernors, originally sold as Vernor’s, moved it...\n",
       "71291    Convergenza per il Friuli, a strong supporter ...\n",
       "Name: content, Length: 71291, dtype: object"
      ]
     },
     "execution_count": 13,
     "metadata": {},
     "output_type": "execute_result"
    }
   ],
   "source": [
    "news_df['content']"
   ]
  },
  {
   "cell_type": "markdown",
   "id": "e24530b4",
   "metadata": {},
   "source": [
    "##### Performing Stemming\n",
    "When Stemming is applied to the words in the corpus the word gives the base for that particular word. It is like from a tree with branches you are removing the branches till their stem."
   ]
  },
  {
   "cell_type": "code",
   "execution_count": 14,
   "id": "1bb62773",
   "metadata": {},
   "outputs": [],
   "source": [
    "\n",
    "ps = PorterStemmer()\n",
    "def stemming(content):\n",
    "    stemmed_content = re.sub('[^a-zA-Z]',' ',content)\n",
    "    stemmed_content = stemmed_content.lower()\n",
    "    stemmed_content = stemmed_content.split()\n",
    "    stemmed_content = [ps.stem(word) for word in stemmed_content if not word in stopwords.words('english')]\n",
    "    stemmed_content = ' '.join(stemmed_content)\n",
    "    return stemmed_content"
   ]
  },
  {
   "cell_type": "code",
   "execution_count": 15,
   "id": "008551fa",
   "metadata": {},
   "outputs": [],
   "source": [
    "news_df['content'] = news_df['content'].apply(stemming)"
   ]
  },
  {
   "cell_type": "code",
   "execution_count": 16,
   "id": "713afcdc",
   "metadata": {},
   "outputs": [
    {
     "data": {
      "text/plain": [
       "1        michael folivi compet ten team appear game mak...\n",
       "2        asiat societi bangladesh hous nimtali non poli...\n",
       "3        lindfield railway station bu rout first platfo...\n",
       "4        mukaradeeb wolf den citi iraq near syrian bord...\n",
       "5        herbivor men coin maki fukasawa neg connot you...\n",
       "                               ...                        \n",
       "71287    monica frassoni european green parti spokesper...\n",
       "71288    emil roy nativ brighton massachusett play summ...\n",
       "71289    francisco antonio zea began studi medellin dro...\n",
       "71290    vernor origin sold vernor move bottl plant hea...\n",
       "71291    convergenza per il friuli strong support friul...\n",
       "Name: content, Length: 71291, dtype: object"
      ]
     },
     "execution_count": 16,
     "metadata": {},
     "output_type": "execute_result"
    }
   ],
   "source": [
    "news_df['content']"
   ]
  },
  {
   "cell_type": "code",
   "execution_count": 17,
   "id": "3b45abf0",
   "metadata": {},
   "outputs": [],
   "source": [
    "X = news_df['content'].values\n",
    "y = news_df['label'].values"
   ]
  },
  {
   "cell_type": "code",
   "execution_count": 18,
   "id": "6d787447",
   "metadata": {},
   "outputs": [
    {
     "name": "stdout",
     "output_type": "stream",
     "text": [
      "['michael folivi compet ten team appear game make seven goal total'\n",
      " 'asiat societi bangladesh hous nimtali non polit organ renam ahm hasan dani play import role found'\n",
      " 'lindfield railway station bu rout first platform servic rout emu plain via central richmond hornbi via strathfield'\n",
      " ... 'francisco antonio zea began studi medellin drop later'\n",
      " 'vernor origin sold vernor move bottl plant headquart new locat due construct cobo hall'\n",
      " 'convergenza per il friuli strong support friuli autonomi teach friulian languag region green centrist polit parti head udin mayor sergio cecotti']\n"
     ]
    }
   ],
   "source": [
    "print(X)"
   ]
  },
  {
   "cell_type": "markdown",
   "id": "86fb95c7",
   "metadata": {},
   "source": [
    "##### Applying Tf-Idf Vectorization \n",
    "Term frequency–inverse document frequency, is a technique for text vectorization based on the Bag of words (BoW) model. It is a numerical statistic that is intended to reflect how important a word is to a document in a collection or corpus."
   ]
  },
  {
   "cell_type": "code",
   "execution_count": 19,
   "id": "9e4db6f2",
   "metadata": {},
   "outputs": [],
   "source": [
    "vector = TfidfVectorizer()\n",
    "vector.fit(X)\n",
    "X = vector.transform(X)"
   ]
  },
  {
   "cell_type": "code",
   "execution_count": 20,
   "id": "96ebaa1b",
   "metadata": {},
   "outputs": [
    {
     "name": "stdout",
     "output_type": "stream",
     "text": [
      "  (0, 52059)\t0.22800277679670436\n",
      "  (0, 50868)\t0.2634945905563091\n",
      "  (0, 50677)\t0.19587377422395605\n",
      "  (0, 46235)\t0.27663373823167486\n",
      "  (0, 32970)\t0.31701864946402897\n",
      "  (0, 30985)\t0.30245277799070336\n",
      "  (0, 19656)\t0.2514092838024555\n",
      "  (0, 18606)\t0.22440188348320111\n",
      "  (0, 17711)\t0.5665365555202247\n",
      "  (0, 10707)\t0.2874529159058384\n",
      "  (0, 2506)\t0.23357736629462783\n",
      "  (1, 47774)\t0.2201351706134059\n",
      "  (1, 43874)\t0.184901423795822\n",
      "  (1, 43010)\t0.26263094196689774\n",
      "  (1, 40351)\t0.194270253701964\n",
      "  (1, 40103)\t0.11913589046218642\n",
      "  (1, 37519)\t0.19275570595065675\n",
      "  (1, 36245)\t0.20772384291827276\n",
      "  (1, 36014)\t0.38999126706851445\n",
      "  (1, 23713)\t0.22881899302491315\n",
      "  (1, 22843)\t0.17644161502130193\n",
      "  (1, 21405)\t0.30558583308171694\n",
      "  (1, 17910)\t0.14081998738857598\n",
      "  (1, 12290)\t0.31535760063587664\n",
      "  (1, 4317)\t0.27867568768876144\n",
      "  :\t:\n",
      "  (71289, 21000)\t0.20051138991283873\n",
      "  (71289, 14437)\t0.19987826670255082\n",
      "  (71289, 10970)\t0.2034779881367884\n",
      "  (71289, 10370)\t0.3419909264218115\n",
      "  (71289, 6561)\t0.27919252638032066\n",
      "  (71290, 53086)\t0.24937763825850792\n",
      "  (71290, 50671)\t0.1838157342292022\n",
      "  (71290, 49707)\t0.15332315909544925\n",
      "  (71290, 49197)\t0.1954024864634476\n",
      "  (71290, 46140)\t0.21087503980613806\n",
      "  (71290, 42839)\t0.1303259270862367\n",
      "  (71290, 40351)\t0.14295185983349906\n",
      "  (71290, 39172)\t0.17005986932074263\n",
      "  (71290, 38636)\t0.11637253029743612\n",
      "  (71290, 32053)\t0.15988676508666916\n",
      "  (71290, 28518)\t0.1423692119068898\n",
      "  (71290, 23555)\t0.2023802256005163\n",
      "  (71290, 21591)\t0.136600622085288\n",
      "  (71290, 20192)\t0.15608918567193575\n",
      "  (71290, 18192)\t0.2768368637946681\n",
      "  (71290, 18191)\t0.4934884172402789\n",
      "  (71290, 11036)\t0.2869712469300356\n",
      "  (71290, 8907)\t0.2443619817416182\n",
      "  (71290, 8808)\t0.269646404529243\n",
      "  (71290, 3599)\t0.2307014146304273\n"
     ]
    }
   ],
   "source": [
    "print(X)"
   ]
  },
  {
   "cell_type": "code",
   "execution_count": 21,
   "id": "971380fe",
   "metadata": {},
   "outputs": [],
   "source": [
    "X_train, X_test, y_train, y_test = train_test_split(X, y, test_size=0.2,stratify=y, random_state=42)"
   ]
  },
  {
   "cell_type": "code",
   "execution_count": 22,
   "id": "fc5c53a6",
   "metadata": {},
   "outputs": [
    {
     "data": {
      "text/plain": [
       "(57032, 57885)"
      ]
     },
     "execution_count": 22,
     "metadata": {},
     "output_type": "execute_result"
    }
   ],
   "source": [
    "X_train.shape"
   ]
  },
  {
   "cell_type": "code",
   "execution_count": 23,
   "id": "5a3020c7",
   "metadata": {},
   "outputs": [
    {
     "data": {
      "text/plain": [
       "(14259, 57885)"
      ]
     },
     "execution_count": 23,
     "metadata": {},
     "output_type": "execute_result"
    }
   ],
   "source": [
    "X_test.shape"
   ]
  },
  {
   "cell_type": "markdown",
   "id": "72ef7e3b",
   "metadata": {},
   "source": [
    "### Machine Learning Algorithms"
   ]
  },
  {
   "cell_type": "markdown",
   "id": "b326e2de",
   "metadata": {},
   "source": [
    "#### Logistic Regression (LR)"
   ]
  },
  {
   "cell_type": "code",
   "execution_count": 24,
   "id": "84239192",
   "metadata": {},
   "outputs": [
    {
     "name": "stdout",
     "output_type": "stream",
     "text": [
      "Confusion Matrix:\n",
      " [[1853 4039]\n",
      " [1279 7088]]\n",
      "\n",
      "Classification Report:\n",
      "               precision    recall  f1-score   support\n",
      "\n",
      "           0       0.59      0.31      0.41      5892\n",
      "           1       0.64      0.85      0.73      8367\n",
      "\n",
      "    accuracy                           0.63     14259\n",
      "   macro avg       0.61      0.58      0.57     14259\n",
      "weighted avg       0.62      0.63      0.60     14259\n",
      "\n",
      "Accuracy: 0.6270425696051617\n",
      "Precision: 0.6370090770198616\n",
      "Recall: 0.8471375642404685\n",
      "F1-Score: 0.7271981122396636\n"
     ]
    },
    {
     "data": {
      "image/png": "[encoded data removed]",
      "text/plain": [
       "<Figure size 432x288 with 2 Axes>"
      ]
     },
     "metadata": {
      "needs_background": "light"
     },
     "output_type": "display_data"
    },
    {
     "data": {
      "image/png": "[encoded data removed]",
      "text/plain": [
       "<Figure size 432x288 with 1 Axes>"
      ]
     },
     "metadata": {
      "needs_background": "light"
     },
     "output_type": "display_data"
    }
   ],
   "source": [
    "model = LogisticRegression(solver='saga', max_iter=1000)\n",
    "model.fit(X_train,y_train)\n",
    "y_pred = model.predict(X_test)\n",
    "confusion_mat = confusion_matrix(y_test, y_pred)\n",
    "report = classification_report(y_test, y_pred)\n",
    "TN, FP, FN, TP = confusion_mat.ravel()\n",
    "accuracy = (TP + TN) / (TP + TN + FP + FN)\n",
    "precision = TP / (TP + FP)\n",
    "recall = TP / (TP + FN)\n",
    "f1_score = 2 * (precision * recall) / (precision + recall)\n",
    "y_prob = model.decision_function(X_test)\n",
    "fpr, tpr, thresholds = roc_curve(y_test, y_prob)\n",
    "roc_auc = roc_auc_score(y_test, y_prob) \n",
    "print('Confusion Matrix:\\n', confusion_mat)\n",
    "print(\"\\nClassification Report:\\n\", report)\n",
    "print('Accuracy:', accuracy)\n",
    "print('Precision:', precision)\n",
    "print('Recall:', recall)\n",
    "print('F1-Score:', f1_score)\n",
    "confusion_mat_display = ConfusionMatrixDisplay(confusion_mat).plot()\n",
    "roc_curve_display = RocCurveDisplay(fpr=fpr,tpr=tpr,roc_auc=roc_auc).plot()"
   ]
  },
  {
   "cell_type": "markdown",
   "id": "fcb13689",
   "metadata": {},
   "source": [
    "#### Support Vector Machine (SVM)"
   ]
  },
  {
   "cell_type": "code",
   "execution_count": 25,
   "id": "c872c310",
   "metadata": {},
   "outputs": [
    {
     "name": "stdout",
     "output_type": "stream",
     "text": [
      "Confusion Matrix:\n",
      " [[2012 3880]\n",
      " [1397 6970]]\n",
      "\n",
      "Classification Report:\n",
      "               precision    recall  f1-score   support\n",
      "\n",
      "           0       0.59      0.34      0.43      5892\n",
      "           1       0.64      0.83      0.73      8367\n",
      "\n",
      "    accuracy                           0.63     14259\n",
      "   macro avg       0.62      0.59      0.58     14259\n",
      "weighted avg       0.62      0.63      0.60     14259\n",
      "\n",
      "Accuracy: 0.6299179465600673\n",
      "Precision: 0.6423963133640553\n",
      "Recall: 0.8330345404565556\n",
      "F1-Score: 0.7253993859603476\n"
     ]
    },
    {
     "data": {
      "image/png": "[encoded data removed]",
      "text/plain": [
       "<Figure size 432x288 with 2 Axes>"
      ]
     },
     "metadata": {
      "needs_background": "light"
     },
     "output_type": "display_data"
    },
    {
     "data": {
      "image/png": "[encoded data removed]",
      "text/plain": [
       "<Figure size 432x288 with 1 Axes>"
      ]
     },
     "metadata": {
      "needs_background": "light"
     },
     "output_type": "display_data"
    }
   ],
   "source": [
    "svm_model = OneVsRestClassifier(SVC(kernel='linear'))\n",
    "svm_model.fit(X_train, y_train)\n",
    "y_pred = svm_model.predict(X_test)\n",
    "confusion_mat = confusion_matrix(y_test, y_pred)\n",
    "report = classification_report(y_test, y_pred)\n",
    "TN, FP, FN, TP = confusion_mat.ravel()\n",
    "accuracy = (TP + TN) / (TP + TN + FP + FN)\n",
    "precision = TP / (TP + FP)\n",
    "recall = TP / (TP + FN)\n",
    "f1_score = 2 * (precision * recall) / (precision + recall)\n",
    "y_prob = svm_model.decision_function(X_test)\n",
    "fpr, tpr, thresholds = roc_curve(y_test, y_prob)\n",
    "roc_auc = roc_auc_score(y_test, y_prob) \n",
    "print('Confusion Matrix:\\n', confusion_mat)\n",
    "print(\"\\nClassification Report:\\n\", report)\n",
    "print('Accuracy:', accuracy)\n",
    "print('Precision:', precision)\n",
    "print('Recall:', recall)\n",
    "print('F1-Score:', f1_score)\n",
    "confusion_mat_display = ConfusionMatrixDisplay(confusion_mat).plot()\n",
    "roc_curve_display = RocCurveDisplay(fpr=fpr,tpr=tpr,roc_auc=roc_auc).plot()"
   ]
  },
  {
   "cell_type": "markdown",
   "id": "462f55d9",
   "metadata": {},
   "source": [
    "#### Naive Bayes Algorithms (NB)"
   ]
  },
  {
   "cell_type": "code",
   "execution_count": 26,
   "id": "2908818f",
   "metadata": {},
   "outputs": [
    {
     "name": "stdout",
     "output_type": "stream",
     "text": [
      "Confusion Matrix:\n",
      " [[1106 4786]\n",
      " [ 761 7606]]\n",
      "\n",
      "Classification Report:\n",
      "               precision    recall  f1-score   support\n",
      "\n",
      "           0       0.59      0.19      0.29      5892\n",
      "           1       0.61      0.91      0.73      8367\n",
      "\n",
      "    accuracy                           0.61     14259\n",
      "   macro avg       0.60      0.55      0.51     14259\n",
      "weighted avg       0.60      0.61      0.55     14259\n",
      "\n",
      "Accuracy: 0.6109825373448349\n",
      "Precision: 0.6137830858618464\n",
      "Recall: 0.9090474483088323\n",
      "F1-Score: 0.7327905968495593\n"
     ]
    },
    {
     "data": {
      "image/png": "[encoded data removed]",
      "text/plain": [
       "<Figure size 432x288 with 2 Axes>"
      ]
     },
     "metadata": {
      "needs_background": "light"
     },
     "output_type": "display_data"
    },
    {
     "data": {
      "image/png": "[encoded data removed]",
      "text/plain": [
       "<Figure size 432x288 with 1 Axes>"
      ]
     },
     "metadata": {
      "needs_background": "light"
     },
     "output_type": "display_data"
    }
   ],
   "source": [
    "NB = MultinomialNB()\n",
    "NB.fit(X_train, y_train)\n",
    "y_pred = NB.predict(X_test)\n",
    "confusion_mat = confusion_matrix(y_test, y_pred)\n",
    "report = classification_report(y_test, y_pred)\n",
    "TN, FP, FN, TP = confusion_mat.ravel()\n",
    "accuracy = (TP + TN) / (TP + TN + FP + FN)\n",
    "precision = TP / (TP + FP)\n",
    "recall = TP / (TP + FN)\n",
    "f1_score = 2 * (precision * recall) / (precision + recall)\n",
    "y_prob = NB.predict_proba(X_test)\n",
    "fpr, tpr, thresholds = roc_curve(y_test, y_prob[:, 1])\n",
    "roc_auc = auc(fpr, tpr) \n",
    "print('Confusion Matrix:\\n', confusion_mat)\n",
    "print(\"\\nClassification Report:\\n\", report)\n",
    "print('Accuracy:', accuracy)\n",
    "print('Precision:', precision)\n",
    "print('Recall:', recall)\n",
    "print('F1-Score:', f1_score)\n",
    "confusion_mat_display = ConfusionMatrixDisplay(confusion_mat).plot()\n",
    "roc_curve_display = RocCurveDisplay(fpr=fpr,tpr=tpr,roc_auc=roc_auc).plot()"
   ]
  },
  {
   "cell_type": "markdown",
   "id": "5be82e18",
   "metadata": {},
   "source": [
    "#### Decision Tree (DT)"
   ]
  },
  {
   "cell_type": "code",
   "execution_count": 27,
   "id": "c12831fc",
   "metadata": {},
   "outputs": [
    {
     "name": "stdout",
     "output_type": "stream",
     "text": [
      "Confusion Matrix:\n",
      " [[ 482 5410]\n",
      " [ 182 8185]]\n",
      "\n",
      "Classification Report:\n",
      "               precision    recall  f1-score   support\n",
      "\n",
      "           0       0.73      0.08      0.15      5892\n",
      "           1       0.60      0.98      0.75      8367\n",
      "\n",
      "    accuracy                           0.61     14259\n",
      "   macro avg       0.66      0.53      0.45     14259\n",
      "weighted avg       0.65      0.61      0.50     14259\n",
      "\n",
      "Accuracy: 0.6078266358089628\n",
      "Precision: 0.6020595807282089\n",
      "Recall: 0.9782478785705748\n",
      "F1-Score: 0.7453783808396319\n"
     ]
    },
    {
     "data": {
      "image/png": "[encoded data removed]",
      "text/plain": [
       "<Figure size 432x288 with 2 Axes>"
      ]
     },
     "metadata": {
      "needs_background": "light"
     },
     "output_type": "display_data"
    },
    {
     "data": {
      "image/png": "[encoded data removed]",
      "text/plain": [
       "<Figure size 432x288 with 1 Axes>"
      ]
     },
     "metadata": {
      "needs_background": "light"
     },
     "output_type": "display_data"
    }
   ],
   "source": [
    "clf = DecisionTreeClassifier(max_depth=5)\n",
    "clf.fit(X_train, y_train)\n",
    "y_pred = clf.predict(X_test)\n",
    "confusion_mat = confusion_matrix(y_test, y_pred)\n",
    "report = classification_report(y_test, y_pred)\n",
    "TN, FP, FN, TP = confusion_mat.ravel()\n",
    "accuracy = (TP + TN) / (TP + TN + FP + FN)\n",
    "precision = TP / (TP + FP)\n",
    "recall = TP / (TP + FN)\n",
    "f1_score = 2 * (precision * recall) / (precision + recall)\n",
    "y_prob = clf.predict_proba(X_test)\n",
    "fpr, tpr, thresholds = roc_curve(y_test, y_prob[:, 1])\n",
    "roc_auc = auc(fpr, tpr)\n",
    "print('Confusion Matrix:\\n', confusion_mat)\n",
    "print(\"\\nClassification Report:\\n\", report)\n",
    "print('Accuracy:', accuracy)\n",
    "print('Precision:', precision)\n",
    "print('Recall:', recall)\n",
    "print('F1-Score:', f1_score)\n",
    "confusion_mat_display = ConfusionMatrixDisplay(confusion_mat).plot()\n",
    "roc_curve_display = RocCurveDisplay(fpr=fpr,tpr=tpr,roc_auc=roc_auc).plot()"
   ]
  },
  {
   "cell_type": "markdown",
   "id": "15f0f576",
   "metadata": {},
   "source": [
    "#### Random Forest (RF)"
   ]
  },
  {
   "cell_type": "code",
   "execution_count": 28,
   "id": "5029254f",
   "metadata": {},
   "outputs": [
    {
     "name": "stdout",
     "output_type": "stream",
     "text": [
      "Confusion Matrix:\n",
      " [[2548 3344]\n",
      " [2546 5821]]\n",
      "\n",
      "Classification Report:\n",
      "               precision    recall  f1-score   support\n",
      "\n",
      "           0       0.50      0.43      0.46      5892\n",
      "           1       0.64      0.70      0.66      8367\n",
      "\n",
      "    accuracy                           0.59     14259\n",
      "   macro avg       0.57      0.56      0.56     14259\n",
      "weighted avg       0.58      0.59      0.58     14259\n",
      "\n",
      "Accuracy: 0.5869275545269654\n",
      "Precision: 0.6351336606655755\n",
      "Recall: 0.6957093342894706\n",
      "F1-Score: 0.6640428929956651\n"
     ]
    },
    {
     "data": {
      "image/png": "[encoded data removed]",
      "text/plain": [
       "<Figure size 432x288 with 2 Axes>"
      ]
     },
     "metadata": {
      "needs_background": "light"
     },
     "output_type": "display_data"
    },
    {
     "data": {
      "image/png": "[encoded data removed]",
      "text/plain": [
       "<Figure size 432x288 with 1 Axes>"
      ]
     },
     "metadata": {
      "needs_background": "light"
     },
     "output_type": "display_data"
    }
   ],
   "source": [
    "clf = RandomForestClassifier(n_estimators=100, max_depth=10, criterion='entropy', random_state=42, class_weight='balanced', bootstrap=True)\n",
    "clf.fit(X_train,y_train)\n",
    "y_pred = clf.predict(X_test)\n",
    "confusion_mat = confusion_matrix(y_test, y_pred)\n",
    "report = classification_report(y_test, y_pred)\n",
    "TN, FP, FN, TP = confusion_mat.ravel()\n",
    "accuracy = (TP + TN) / (TP + TN + FP + FN)\n",
    "precision = TP / (TP + FP)\n",
    "recall = TP / (TP + FN)\n",
    "f1_score = 2 * (precision * recall) / (precision + recall)\n",
    "y_prob = NB.predict_proba(X_test)\n",
    "fpr, tpr, thresholds = roc_curve(y_test, y_prob[:, 1])\n",
    "roc_auc = auc(fpr, tpr)\n",
    "print('Confusion Matrix:\\n', confusion_mat)\n",
    "print(\"\\nClassification Report:\\n\", report)\n",
    "print('Accuracy:', accuracy)\n",
    "print('Precision:', precision)\n",
    "print('Recall:', recall)\n",
    "print('F1-Score:', f1_score)\n",
    "confusion_mat_display = ConfusionMatrixDisplay(confusion_mat).plot()\n",
    "roc_curve_display = RocCurveDisplay(fpr=fpr,tpr=tpr,roc_auc=roc_auc).plot()"
   ]
  },
  {
   "cell_type": "markdown",
   "id": "42650860",
   "metadata": {},
   "source": [
    "#### Passive Aggressive Algorithm"
   ]
  },
  {
   "cell_type": "code",
   "execution_count": 29,
   "id": "aa0fdd2b",
   "metadata": {},
   "outputs": [
    {
     "name": "stdout",
     "output_type": "stream",
     "text": [
      "Confusion Matrix:\n",
      " [[3030 2862]\n",
      " [2626 5741]]\n",
      "\n",
      "Classification Report:\n",
      "               precision    recall  f1-score   support\n",
      "\n",
      "           0       0.54      0.51      0.52      5892\n",
      "           1       0.67      0.69      0.68      8367\n",
      "\n",
      "    accuracy                           0.62     14259\n",
      "   macro avg       0.60      0.60      0.60     14259\n",
      "weighted avg       0.61      0.62      0.61     14259\n",
      "\n",
      "Accuracy: 0.6151202749140894\n",
      "Precision: 0.6673253516215274\n",
      "Recall: 0.6861479622325803\n",
      "F1-Score: 0.6766057748968768\n"
     ]
    },
    {
     "data": {
      "image/png": "[encoded data removed]",
      "text/plain": [
       "<Figure size 432x288 with 2 Axes>"
      ]
     },
     "metadata": {
      "needs_background": "light"
     },
     "output_type": "display_data"
    },
    {
     "data": {
      "image/png": "[encoded data removed]",
      "text/plain": [
       "<Figure size 432x288 with 1 Axes>"
      ]
     },
     "metadata": {
      "needs_background": "light"
     },
     "output_type": "display_data"
    }
   ],
   "source": [
    "clf = PassiveAggressiveClassifier(max_iter=500)\n",
    "clf.fit(X_train, y_train)\n",
    "y_pred = clf.predict(X_test)\n",
    "confusion_mat = confusion_matrix(y_test, y_pred)\n",
    "report = classification_report(y_test, y_pred)\n",
    "TN, FP, FN, TP = confusion_mat.ravel()\n",
    "accuracy = (TP + TN) / (TP + TN + FP + FN)\n",
    "precision = TP / (TP + FP)\n",
    "recall = TP / (TP + FN)\n",
    "f1_score = 2 * (precision * recall) / (precision + recall)\n",
    "y_prob = clf.decision_function(X_test)\n",
    "fpr, tpr, thresholds = roc_curve(y_test, y_prob)\n",
    "roc_auc = roc_auc_score(y_test, y_prob) \n",
    "print('Confusion Matrix:\\n', confusion_mat)\n",
    "print(\"\\nClassification Report:\\n\", report)\n",
    "print('Accuracy:', accuracy)\n",
    "print('Precision:', precision)\n",
    "print('Recall:', recall)\n",
    "print('F1-Score:', f1_score)\n",
    "confusion_mat_display = ConfusionMatrixDisplay(confusion_mat).plot()\n",
    "roc_curve_display = RocCurveDisplay(fpr=fpr,tpr=tpr,roc_auc=roc_auc).plot()"
   ]
  }
 ],
 "metadata": {
  "kernelspec": {
   "display_name": "Python 3 (ipykernel)",
   "language": "python",
   "name": "python3"
  },
  "language_info": {
   "codemirror_mode": {
    "name": "ipython",
    "version": 3
   },
   "file_extension": ".py",
   "mimetype": "text/x-python",
   "name": "python",
   "nbconvert_exporter": "python",
   "pygments_lexer": "ipython3",
   "version": "3.9.12"
  }
 },
 "nbformat": 4,
 "nbformat_minor": 5
}
