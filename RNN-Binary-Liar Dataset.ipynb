{
 "cells": [
  {
   "cell_type": "code",
   "execution_count": 1,
   "id": "e61d5ab7",
   "metadata": {},
   "outputs": [],
   "source": [
    "import numpy as np\n",
    "import pandas as pd\n",
    "import matplotlib.pyplot as plt\n",
    "import seaborn as sns\n",
    "from sklearn.model_selection import train_test_split\n",
    "from sklearn.preprocessing import LabelEncoder\n",
    "from tensorflow.keras.preprocessing.text import Tokenizer\n",
    "from tensorflow.keras.preprocessing.sequence import pad_sequences\n",
    "from tensorflow.keras.models import Sequential\n",
    "from tensorflow.keras.layers import Embedding, LSTM, Dense, Dropout\n",
    "from keras.callbacks import EarlyStopping\n",
    "from sklearn.metrics import confusion_matrix, classification_report, roc_curve, roc_auc_score"
   ]
  },
  {
   "cell_type": "code",
   "execution_count": 2,
   "id": "a16ffc0f",
   "metadata": {},
   "outputs": [],
   "source": [
    "liar_data = pd.read_csv('train (1).csv', names=[\"json ID\", \"label\", \"statement\", \"subject\", \"speaker\", \"job title\", \"state\", \"party\",\n",
    "                         \"barely true\", \"false\", \"half true\", \"mostly true\", \"pantson fire\",\"context\"])"
   ]
  },
  {
   "cell_type": "code",
   "execution_count": 3,
   "id": "986cc6c8",
   "metadata": {},
   "outputs": [],
   "source": [
    "liar_data['label'] = liar_data['label'].replace({\n",
    "    'pants-fire': 0,\n",
    "    'FALSE': 0,\n",
    "    'barely-true': 0,\n",
    "    'half-true': 1,\n",
    "    'mostly-true': 1,\n",
    "    'TRUE': 1\n",
    "})"
   ]
  },
  {
   "cell_type": "code",
   "execution_count": 4,
   "id": "6cdc6cd5",
   "metadata": {},
   "outputs": [],
   "source": [
    "# Select only the relevant columns for our task\n",
    "liar_data = liar_data[['statement', 'label']]"
   ]
  },
  {
   "cell_type": "code",
   "execution_count": 6,
   "id": "873798d0",
   "metadata": {},
   "outputs": [],
   "source": [
    "# Split the data into training and testing sets\n",
    "X = liar_data['statement']\n",
    "y = liar_data['label']\n",
    "X_train, X_test, y_train, y_test = train_test_split(X, y, test_size=0.2, random_state=42)"
   ]
  },
  {
   "cell_type": "code",
   "execution_count": 7,
   "id": "025dd7be",
   "metadata": {},
   "outputs": [],
   "source": [
    "# Tokenize the statements using Keras' Tokenizer\n",
    "tokenizer = Tokenizer(num_words=5000)\n",
    "tokenizer.fit_on_texts(X_train)"
   ]
  },
  {
   "cell_type": "code",
   "execution_count": 8,
   "id": "85392c84",
   "metadata": {},
   "outputs": [],
   "source": [
    "# Convert the tokenized sequences to padded sequences\n",
    "X_train = pad_sequences(tokenizer.texts_to_sequences(X_train), maxlen=100)\n",
    "X_test = pad_sequences(tokenizer.texts_to_sequences(X_test), maxlen=100)"
   ]
  },
  {
   "cell_type": "code",
   "execution_count": 9,
   "id": "3e56b27c",
   "metadata": {},
   "outputs": [],
   "source": [
    "# Build the RNN model\n",
    "model = Sequential()\n",
    "model.add(Embedding(5000, 64))\n",
    "model.add(LSTM(128, dropout=0.2, recurrent_dropout=0.2))\n",
    "model.add(Dense(64, activation='relu'))\n",
    "model.add(Dropout(0.5))\n",
    "model.add(Dense(1, activation='sigmoid'))"
   ]
  },
  {
   "cell_type": "code",
   "execution_count": 10,
   "id": "ead2b937",
   "metadata": {},
   "outputs": [],
   "source": [
    "# Compile the model\n",
    "model.compile(optimizer='adam', loss='binary_crossentropy', metrics=['accuracy'])"
   ]
  },
  {
   "cell_type": "code",
   "execution_count": 11,
   "id": "8c97d387",
   "metadata": {},
   "outputs": [
    {
     "name": "stdout",
     "output_type": "stream",
     "text": [
      "Epoch 1/50\n",
      "116/116 [==============================] - 63s 351ms/step - loss: 0.6787 - accuracy: 0.5658 - val_loss: 0.6584 - val_accuracy: 0.5915\n",
      "Epoch 2/50\n",
      "116/116 [==============================] - 37s 321ms/step - loss: 0.6131 - accuracy: 0.6652 - val_loss: 0.6551 - val_accuracy: 0.6012\n",
      "Epoch 3/50\n",
      "116/116 [==============================] - 37s 317ms/step - loss: 0.5155 - accuracy: 0.7533 - val_loss: 0.7018 - val_accuracy: 0.6000\n",
      "Epoch 4/50\n",
      "116/116 [==============================] - 39s 341ms/step - loss: 0.4241 - accuracy: 0.8072 - val_loss: 0.8470 - val_accuracy: 0.6024\n",
      "Epoch 5/50\n",
      "116/116 [==============================] - 36s 312ms/step - loss: 0.3341 - accuracy: 0.8581 - val_loss: 0.9354 - val_accuracy: 0.5817\n"
     ]
    },
    {
     "data": {
      "text/plain": [
       "<keras.callbacks.History at 0x28baafe3eb0>"
      ]
     },
     "execution_count": 11,
     "metadata": {},
     "output_type": "execute_result"
    }
   ],
   "source": [
    "# Train the model\n",
    "early_stop = EarlyStopping(monitor='val_loss', patience=3)\n",
    "model.fit(X_train, y_train, batch_size=64, epochs=50, validation_split=0.1, callbacks=[early_stop])"
   ]
  },
  {
   "cell_type": "code",
   "execution_count": 12,
   "id": "e7fb1549",
   "metadata": {},
   "outputs": [
    {
     "name": "stdout",
     "output_type": "stream",
     "text": [
      "32/32 [==============================] - 2s 70ms/step - loss: 0.9760 - accuracy: 0.5649\n",
      "Test score: 0.9760158658027649\n",
      "Test accuracy: 0.56494140625\n"
     ]
    }
   ],
   "source": [
    "# Evaluate the model on the test set\n",
    "score, acc = model.evaluate(X_test, y_test, batch_size=64)\n",
    "print('Test score:', score)\n",
    "print('Test accuracy:', acc)"
   ]
  },
  {
   "cell_type": "code",
   "execution_count": 24,
   "id": "b6246054",
   "metadata": {},
   "outputs": [
    {
     "name": "stdout",
     "output_type": "stream",
     "text": [
      "64/64 [==============================] - 2s 34ms/step\n"
     ]
    }
   ],
   "source": [
    "# Make predictions on the test set and calculate evaluation metrics\n",
    "y_pred = model.predict(X_test)\n",
    "y_pred_labels = np.argmax(y_pred, axis=1)\n",
    "y_pred_binary = (y_pred_labels > 0.5).astype(int)"
   ]
  },
  {
   "cell_type": "code",
   "execution_count": 25,
   "id": "5ccb0664",
   "metadata": {},
   "outputs": [
    {
     "name": "stdout",
     "output_type": "stream",
     "text": [
      "(2048,)\n",
      "(2048, 1)\n"
     ]
    }
   ],
   "source": [
    "print(y_test.shape)\n",
    "print(y_pred.shape)"
   ]
  },
  {
   "cell_type": "code",
   "execution_count": 26,
   "id": "8bb4d937",
   "metadata": {},
   "outputs": [
    {
     "name": "stdout",
     "output_type": "stream",
     "text": [
      "              precision    recall  f1-score   support\n",
      "\n",
      "           0       0.43      1.00      0.60       888\n",
      "           1       0.00      0.00      0.00      1160\n",
      "\n",
      "    accuracy                           0.43      2048\n",
      "   macro avg       0.22      0.50      0.30      2048\n",
      "weighted avg       0.19      0.43      0.26      2048\n",
      "\n"
     ]
    },
    {
     "name": "stderr",
     "output_type": "stream",
     "text": [
      "C:\\Users\\shruti29\\anaconda3\\lib\\site-packages\\sklearn\\metrics\\_classification.py:1318: UndefinedMetricWarning: Precision and F-score are ill-defined and being set to 0.0 in labels with no predicted samples. Use `zero_division` parameter to control this behavior.\n",
      "  _warn_prf(average, modifier, msg_start, len(result))\n",
      "C:\\Users\\shruti29\\anaconda3\\lib\\site-packages\\sklearn\\metrics\\_classification.py:1318: UndefinedMetricWarning: Precision and F-score are ill-defined and being set to 0.0 in labels with no predicted samples. Use `zero_division` parameter to control this behavior.\n",
      "  _warn_prf(average, modifier, msg_start, len(result))\n",
      "C:\\Users\\shruti29\\anaconda3\\lib\\site-packages\\sklearn\\metrics\\_classification.py:1318: UndefinedMetricWarning: Precision and F-score are ill-defined and being set to 0.0 in labels with no predicted samples. Use `zero_division` parameter to control this behavior.\n",
      "  _warn_prf(average, modifier, msg_start, len(result))\n"
     ]
    }
   ],
   "source": [
    "print(classification_report(y_test, y_pred_labels))"
   ]
  },
  {
   "cell_type": "code",
   "execution_count": 29,
   "id": "adc444ed",
   "metadata": {},
   "outputs": [
    {
     "name": "stdout",
     "output_type": "stream",
     "text": [
      "Confusion Matrix:\n",
      "[[ 888    0]\n",
      " [1160    0]]\n"
     ]
    },
    {
     "data": {
      "image/png": "[encoded data removed]",
      "text/plain": [
       "<Figure size 432x288 with 2 Axes>"
      ]
     },
     "metadata": {
      "needs_background": "light"
     },
     "output_type": "display_data"
    }
   ],
   "source": [
    "cm = confusion_matrix(y_test, y_pred_labels)\n",
    "print(f'Confusion Matrix:\\n{cm}')\n",
    "sns.heatmap(cm, annot=True, fmt='g')\n",
    "plt.title('Confusion Matrix')\n",
    "plt.xlabel('Predicted Label')\n",
    "plt.ylabel('True Label')\n",
    "plt.show()"
   ]
  },
  {
   "cell_type": "code",
   "execution_count": 18,
   "id": "a320f648",
   "metadata": {},
   "outputs": [
    {
     "name": "stdout",
     "output_type": "stream",
     "text": [
      "AUC: 0.500\n"
     ]
    },
    {
     "data": {
      "image/png": "[encoded data removed]",
      "text/plain": [
       "<Figure size 432x288 with 1 Axes>"
      ]
     },
     "metadata": {
      "needs_background": "light"
     },
     "output_type": "display_data"
    }
   ],
   "source": [
    "fpr, tpr, thresholds = roc_curve(y_test, y_pred_labels)\n",
    "auc = roc_auc_score(y_test, y_pred_labels)\n",
    "print(f'AUC: {auc:.3f}')\n",
    "plt.plot(fpr, tpr, label=f'AUC = {auc:.3f}')\n",
    "plt.plot([0, 1], [0, 1], 'r--')\n",
    "plt.title('ROC Curve')\n",
    "plt.xlabel('False Positive Rate')\n",
    "plt.ylabel('True Positive Rate')\n",
    "plt.legend()\n",
    "plt.show()"
   ]
  },
  {
   "cell_type": "code",
   "execution_count": null,
   "id": "5b01aa19",
   "metadata": {},
   "outputs": [],
   "source": []
  }
 ],
 "metadata": {
  "kernelspec": {
   "display_name": "Python 3 (ipykernel)",
   "language": "python",
   "name": "python3"
  },
  "language_info": {
   "codemirror_mode": {
    "name": "ipython",
    "version": 3
   },
   "file_extension": ".py",
   "mimetype": "text/x-python",
   "name": "python",
   "nbconvert_exporter": "python",
   "pygments_lexer": "ipython3",
   "version": "3.9.12"
  }
 },
 "nbformat": 4,
 "nbformat_minor": 5
}
